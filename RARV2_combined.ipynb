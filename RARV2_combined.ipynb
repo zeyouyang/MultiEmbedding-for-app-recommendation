{
 "cells": [
  {
   "cell_type": "code",
   "execution_count": 1,
   "id": "07cbc529",
   "metadata": {},
   "outputs": [],
   "source": [
    "import torch\n",
    "device = torch.device(\"cuda\" if torch.cuda.is_available() else \"cpu\")\n",
    "import torch.nn.functional as F\n",
    "from torch import optim\n",
    "import matplotlib.pyplot as plt\n",
    "import numpy as np\n",
    "import pandas as pd\n",
    "from tqdm import tqdm\n",
    "from timeit import default_timer as timer\n",
    "import torch.nn as nn\n",
    "import pytorch_lightning as pl\n",
    "from pytorch_forecasting import RMSE,MAE,MAPE\n",
    "from prettytable import PrettyTable"
   ]
  },
  {
   "cell_type": "markdown",
   "id": "d887c1a2",
   "metadata": {},
   "source": [
    "### Loading data\n",
    "appId/userId/rating : int32"
   ]
  },
  {
   "cell_type": "code",
   "execution_count": 2,
   "id": "dc54c9e6",
   "metadata": {},
   "outputs": [],
   "source": [
    "train_rv = torch.load('./data/google-RB.train.review.pt')\n",
    "train_userId = torch.load('./data/google.train.userId.pt') \n",
    "train_appId = torch.load('./data/google.train.appId.pt')\n",
    "train_rating = torch.load('./data/google.train.rating.pt')\n",
    "\n",
    "val_rv = torch.load('./data/google-RB.val.review.pt')\n",
    "val_userId = torch.load('./data/google.val.userId.pt')  \n",
    "val_appId = torch.load('./data/google.val.appId.pt') \n",
    "val_rating = torch.load('./data/google.val.rating.pt') \n",
    "\n",
    "test_rv = torch.load('./data/google-RB.test.review.pt')\n",
    "test_userId = torch.load('./data/google.test.userId.pt')  \n",
    "test_appId = torch.load('./data/google.test.appId.pt')\n",
    "test_rating = torch.load('./data/google.test.rating.pt') \n"
   ]
  },
  {
   "cell_type": "code",
   "execution_count": 3,
   "id": "332a9a31",
   "metadata": {},
   "outputs": [],
   "source": [
    "# 還原維度\n",
    "\n",
    "train_userId = train_userId.view(-1)\n",
    "train_appId = train_appId.view(-1)\n",
    "train_rating = train_rating.view(-1)\n",
    "\n",
    "val_userId = val_userId.view(-1)\n",
    "val_appId =val_appId.view(-1)\n",
    "val_rating = val_rating.view(-1)\n",
    "\n",
    "test_userId = test_userId.view(-1)\n",
    "test_appId = test_appId.view(-1)\n",
    "test_rating = test_rating.view(-1)"
   ]
  },
  {
   "cell_type": "code",
   "execution_count": 4,
   "id": "9dd59109",
   "metadata": {},
   "outputs": [],
   "source": [
    "# get_user_item_matrix_indices\n",
    "user_indices, item_indices, ratings = [], [], []\n",
    "for idx,i in enumerate(train_rating):\n",
    "    user_indices.append(train_userId[idx])\n",
    "    item_indices.append(train_appId[idx])\n",
    "    ratings.append(i)\n",
    "    \n",
    "user_item_rating_indices = [np.array(user_indices), np.array(item_indices), np.array(ratings)]   \n",
    "user_indices, item_incides, rating_data = user_item_rating_indices"
   ]
  },
  {
   "cell_type": "markdown",
   "id": "b7b2ecbd",
   "metadata": {},
   "source": [
    "### 模型參數"
   ]
  },
  {
   "cell_type": "code",
   "execution_count": 5,
   "id": "9d2c272e",
   "metadata": {},
   "outputs": [],
   "source": [
    "batch_size = 32\n",
    "epochs = 50\n",
    "learning_rate =0.0001\n",
    "\n",
    "# rating network\n",
    "layers = [128,64] #[embbeding size, layers[0] user/item network 的 latent factor數] \\\n",
    "layers_cat = [512,256,64] # user和item 串聯後的各dnn層神經元數:512/256; 256/128; 128/64等\n",
    "\n",
    "# review network\n",
    "rv_input_dim = 2*768\n",
    "rv_output_dim = 64"
   ]
  },
  {
   "cell_type": "markdown",
   "id": "9d2af3dd",
   "metadata": {},
   "source": [
    "### TensorDataset、Dataloader\n",
    "Dataloader：把 Dataset類轉換成方便model處理的東西"
   ]
  },
  {
   "cell_type": "code",
   "execution_count": 6,
   "id": "d824b9f7",
   "metadata": {},
   "outputs": [],
   "source": [
    "from torch.utils.data import DataLoader, Dataset\n",
    "class UserItemRatingDataset(Dataset):\n",
    "    def __init__(self, user, item, target, review_3):\n",
    "        self.user = user\n",
    "        self.item = item\n",
    "        self.target = target\n",
    "        self.review_3 = review_3\n",
    "        \n",
    "    def __getitem__(self, index):\n",
    "        return self.user[index], self.item[index], self.target[index], self.review_3[index]\n",
    "    \n",
    "    def __len__(self):\n",
    "        return self.user.size(0)"
   ]
  },
  {
   "cell_type": "code",
   "execution_count": 7,
   "id": "00c69c1f",
   "metadata": {},
   "outputs": [],
   "source": [
    "train_dataset = UserItemRatingDataset(train_userId, train_appId, train_rating, train_rv) # train 為 Dataset object \n",
    "train_loader = DataLoader(train_dataset, batch_size=batch_size, shuffle=True)\n",
    "\n",
    "test_dataset = UserItemRatingDataset(test_userId, test_appId, test_rating, test_rv)\n",
    "test_loader = DataLoader(test_dataset, batch_size=batch_size, shuffle=False)\n",
    "\n",
    "val_dataset = UserItemRatingDataset(val_userId, val_appId, val_rating, val_rv)\n",
    "val_loader = DataLoader(val_dataset, batch_size=batch_size, shuffle=True)"
   ]
  },
  {
   "cell_type": "markdown",
   "id": "22ac94a0",
   "metadata": {},
   "source": [
    "### 構建神經元網絡"
   ]
  },
  {
   "cell_type": "code",
   "execution_count": 8,
   "id": "ceee5354",
   "metadata": {},
   "outputs": [],
   "source": [
    "class RARV2_model(torch.nn.Module):\n",
    "    \n",
    "    def __init__(self, num_users, num_items, layers, layers_cat, rv_input_dim, rv_output_dim):   \n",
    "        super().__init__()  \n",
    "\n",
    "        # RV2_model\n",
    "        self.rv2_dnn = torch.nn.Sequential(\n",
    "            torch.nn.Linear(rv_input_dim,2048),\n",
    "            torch.nn.ReLU(),\n",
    "            torch.nn.Dropout(0.5),\n",
    "            torch.nn.Linear(2048,1024),\n",
    "            torch.nn.ReLU(),\n",
    "            torch.nn.Dropout(0.5),\n",
    "            torch.nn.Linear(1024,rv_output_dim),\n",
    "        )\n",
    "           \n",
    "        # RA_model\n",
    "        self.num_users = num_users\n",
    "        self.num_items = num_items\n",
    "        self.latent_dim = layers[0]\n",
    "        self.layers = layers\n",
    "        self.latent_dim_concat = layers_cat[0] \n",
    "        self.layers_cat = layers_cat\n",
    "        self.user_str = 'torch.int64'\n",
    "        \n",
    "        #傳入評分矩陣數據\n",
    "        self.user_item_indices = torch.LongTensor([user_indices, item_indices]) #行列: 即 userId/itemId       \n",
    "        self.rating_data = train_rating\n",
    "        self.user_item_matrix = torch.sparse_coo_tensor(self.user_item_indices,\n",
    "                                                        self.rating_data,\n",
    "                                                        torch.Size((self.num_users, self.num_items))).to_dense().to(device)\n",
    "        \n",
    "        # 先分別給定用戶/項目/ pi & qj 串聯網路 第一層神經網路的參數  \n",
    "        # user Layer 1 to N\n",
    "        self.linear_user_1 = nn.Linear(in_features=self.num_items, out_features=self.latent_dim)\n",
    "        self.linear_user_1.weight.detach().normal_(0, 0.01)\n",
    "        self.user_fc_layers = nn.ModuleList()\n",
    "        for idx in range(1, len(self.layers)):\n",
    "            self.user_fc_layers.append(nn.Linear(in_features=self.layers[idx - 1], out_features=self.layers[idx]))\n",
    "        \n",
    "        # item Layer 1 to N\n",
    "        self.linear_item_1 = nn.Linear(in_features=self.num_users, out_features=self.latent_dim)\n",
    "        self.linear_item_1.weight.detach().normal_(0, 0.01)  \n",
    "        self.item_fc_layers = nn.ModuleList()\n",
    "        for idx in range(1, len(self.layers)):\n",
    "            self.item_fc_layers.append(nn.Linear(in_features=self.layers[idx - 1], out_features=self.layers[idx]))\n",
    "            \n",
    "        # user & item concat layer\n",
    "        self.linear_concat_1 = nn.Linear(in_features=128, out_features=self.latent_dim_concat) # in_features=use+item\n",
    "        self.linear_concat_1.weight.detach().normal_(0, 0.01)  \n",
    "        self.concat_layers = nn.ModuleList()\n",
    "        for idx in range(1, len(self.layers_cat)):\n",
    "            self.concat_layers.append(nn.Linear(in_features=self.layers_cat[idx - 1], out_features=self.layers_cat[idx]))\n",
    "        \n",
    "        self.dropout_layer  = torch.nn.Dropout(0.5)\n",
    "        \n",
    "        self.final = nn.Linear(128,1)\n",
    "        \n",
    "    def forward(self, user_indices, item_indices, rv2, idx):\n",
    "        \n",
    "        # RV2_model\n",
    "        rv2 = rv2.view(rv2.size(0), -1)\n",
    "        rv2 = self.rv2_dnn(rv2)\n",
    "        \n",
    "        # RA_model       \n",
    "        user = self.user_item_matrix[user_indices]\n",
    "        item = self.user_item_matrix[:, item_indices].t()\n",
    "        \n",
    "        user = self.linear_user_1(user)\n",
    "        for idx in range(len(self.layers) - 1):\n",
    "            user = F.relu(user)\n",
    "            user = self.dropout_layer(user)\n",
    "            user = self.user_fc_layers[idx](user)\n",
    "\n",
    "        item = self.linear_item_1(item)\n",
    "        for idx in range(len(self.layers) - 1):\n",
    "            item = F.relu(item)\n",
    "            item = self.dropout_layer(item)\n",
    "            item = self.item_fc_layers[idx](item)     \n",
    "            \n",
    "        #concat pi & qj and 丟入神經網路訓練\n",
    "        concat_user_item = torch.cat((user, item), 1)  \n",
    "        concat_user_item = self.linear_concat_1(concat_user_item)\n",
    "        for idx in range(len(self.layers_cat) - 1):\n",
    "            concat_user_item = F.relu(concat_user_item)\n",
    "            concat_user_item = self.dropout_layer(concat_user_item)\n",
    "            concat_user_item = self.concat_layers[idx](concat_user_item)\n",
    "       \n",
    "    \n",
    "        # RA_model & RV2_model 串聯\n",
    "        concat_all = torch.cat((concat_user_item,rv2),1) \n",
    "        concat_all = self.final(concat_all)\n",
    "\n",
    "        y_hat = concat_all.view(-1)\n",
    "        \n",
    "        return y_hat"
   ]
  },
  {
   "cell_type": "code",
   "execution_count": 9,
   "id": "f355114d",
   "metadata": {},
   "outputs": [
    {
     "data": {
      "text/plain": [
       "RARV2_model(\n",
       "  (rv2_dnn): Sequential(\n",
       "    (0): Linear(in_features=1536, out_features=2048, bias=True)\n",
       "    (1): ReLU()\n",
       "    (2): Dropout(p=0.5, inplace=False)\n",
       "    (3): Linear(in_features=2048, out_features=1024, bias=True)\n",
       "    (4): ReLU()\n",
       "    (5): Dropout(p=0.5, inplace=False)\n",
       "    (6): Linear(in_features=1024, out_features=64, bias=True)\n",
       "  )\n",
       "  (linear_user_1): Linear(in_features=9095, out_features=128, bias=True)\n",
       "  (user_fc_layers): ModuleList(\n",
       "    (0): Linear(in_features=128, out_features=64, bias=True)\n",
       "  )\n",
       "  (linear_item_1): Linear(in_features=135331, out_features=128, bias=True)\n",
       "  (item_fc_layers): ModuleList(\n",
       "    (0): Linear(in_features=128, out_features=64, bias=True)\n",
       "  )\n",
       "  (linear_concat_1): Linear(in_features=128, out_features=512, bias=True)\n",
       "  (concat_layers): ModuleList(\n",
       "    (0): Linear(in_features=512, out_features=256, bias=True)\n",
       "    (1): Linear(in_features=256, out_features=64, bias=True)\n",
       "  )\n",
       "  (dropout_layer): Dropout(p=0.5, inplace=False)\n",
       "  (final): Linear(in_features=128, out_features=1, bias=True)\n",
       ")"
      ]
     },
     "execution_count": 9,
     "metadata": {},
     "output_type": "execute_result"
    }
   ],
   "source": [
    "def count_parameters(model): # 模型參數統計\n",
    "    table = PrettyTable([\"Modules\", \"Parameters\"])\n",
    "    total_params = 0\n",
    "    for name, parameter in model.named_parameters():\n",
    "        if not parameter.requires_grad: \n",
    "            continue\n",
    "        param = parameter.numel()\n",
    "        table.add_row([name, param])\n",
    "        total_params+=param\n",
    "    print(table)\n",
    "    print(f\"Total Trainable Params: {total_params}\")\n",
    "    return total_params\n",
    "\n",
    "\n",
    "#build model\n",
    "rarv2_model = RARV2_model(135331,9095, layers, layers_cat, rv_input_dim, rv_output_dim).to(device) # num_users, num_items\n",
    "optimizer = torch.optim.Adam(rarv2_model.parameters(),lr=learning_rate)  \n",
    "rarv2_model"
   ]
  },
  {
   "cell_type": "code",
   "execution_count": 10,
   "id": "247ef31d",
   "metadata": {},
   "outputs": [],
   "source": [
    "# count_parameters(rarv2_model) # 模型參數統計"
   ]
  },
  {
   "cell_type": "markdown",
   "id": "f08b136a",
   "metadata": {},
   "source": [
    "### train"
   ]
  },
  {
   "cell_type": "code",
   "execution_count": null,
   "id": "8e62a61d",
   "metadata": {},
   "outputs": [],
   "source": [
    "loss_f = torch.nn.MSELoss()\n",
    "min_val_loss = 10\n",
    "\n",
    "for epoch in range(epochs):\n",
    "    train_loss_sum = 0.0\n",
    "    val_loss_sum = 0.0\n",
    "    train_loss = 0.0\n",
    "    val_loss = 0.0\n",
    "    \n",
    "    start_time = timer()\n",
    "    \n",
    "    #train model\n",
    "    rarv2_model.train()\n",
    "    for idx, (user, item, y, rv2) in enumerate(train_loader):\n",
    "        user = user.long()\n",
    "        item = item.long()\n",
    "        user, item, y, rv2 = user.to(device), item.to(device), y.to(device), rv2.to(device)\n",
    "        y_hat = rarv2_model(user, item, rv2, idx)     \n",
    "        loss = loss_f(y_hat, y)\n",
    "        optimizer.zero_grad()\n",
    "        loss.backward()\n",
    "        optimizer.step()              \n",
    "        train_loss_sum += loss.item()\n",
    "\n",
    "    train_loss = train_loss_sum / len(train_loader)\n",
    "    train_time = round(timer() - start_time)\n",
    "\n",
    "    #val\n",
    "    rarv2_model.eval()\n",
    "    for idx,(user,item,y,rv2) in enumerate(val_loader):\n",
    "        \n",
    "        user = user.long()\n",
    "        item = item.long()\n",
    "        \n",
    "        user, item, y, rv2 = user.to(device), item.to(device), y.to(device), rv2.to(device)\n",
    "        y_hat = rarv2_model(user, item, rv2, idx)\n",
    "        val_loss = loss_f(y_hat, y) \n",
    "        val_loss_sum += val_loss.item()\n",
    "        \n",
    "    val_loss = val_loss_sum / len(val_loader)\n",
    "    \n",
    "    # val_loss若小於當前最好的loss就把模型存起來\n",
    "    if val_loss < min_val_loss:\n",
    "        min_val_loss = val_loss\n",
    "        #若要存在其他地方檔案位置要改\n",
    "        model_out_file = './model_2rv_ra/RARV2-rv-2048-1024-64-ra-128-64-512-256-64-valMSE_{:.4f}-batch_size_{}-lr_{}-epoch_{}.model'.format(\n",
    "                    val_loss,\n",
    "                    batch_size,\n",
    "                    learning_rate,\n",
    "                    epoch+1)\n",
    "        torch.save(rarv2_model.state_dict(), model_out_file)\n",
    "    \n",
    "    log = f\"[Epoch:{epoch+1}] Train MSE: {train_loss:.4f} Val MSE: {val_loss:.4f} Epoch train time = {train_time:.3f}s \"\n",
    "    print(log)"
   ]
  },
  {
   "cell_type": "markdown",
   "id": "653c414a",
   "metadata": {},
   "source": [
    "以下test 若要改跑其他模型或檔案 要更改檔案位置"
   ]
  },
  {
   "cell_type": "code",
   "execution_count": 11,
   "id": "911d2ad5",
   "metadata": {
    "scrolled": false
   },
   "outputs": [
    {
     "name": "stdout",
     "output_type": "stream",
     "text": [
      "Test MSE loss: 0.6273  \n"
     ]
    }
   ],
   "source": [
    "# load model\n",
    "rarv2_model = RARV2_model(135331,9095, layers, layers_cat, rv_input_dim, rv_output_dim).to(device)\n",
    "rarv2_model.load_state_dict(torch.load('./model_2rv_ra/RARV2-rv-2048-1024-64-ra-128-64-512-256-64-valMSE_0.6140-batch_size_32-lr_0.0001-epoch_50.model'))\n",
    "rarv2_model.eval()\n",
    "loss_f = torch.nn.MSELoss()\n",
    "test_loss_sum = 0.0 \n",
    "\n",
    "lst=[]\n",
    "y_pred_np = np.array(lst)\n",
    "y_true_np = np.array(lst)\n",
    "\n",
    "for idx,(user,item,y,rv2) in enumerate(test_loader):\n",
    "        \n",
    "    user = user.long()\n",
    "    item = item.long()   \n",
    "    user, item, y, rv2 = user.to(device), item.to(device), y.to(device), rv2.to(device)\n",
    "    y_hat = rarv2_model(user, item, rv2, idx)\n",
    "    test_loss = loss_f(y_hat, y) \n",
    "    test_loss_sum += test_loss.item()  \n",
    "    y_hat = y_hat.cpu().detach().numpy()\n",
    "    y_np = y.cpu().detach().numpy()\n",
    "    \n",
    "    y_pred_np = np.concatenate((y_pred_np,y_hat))\n",
    "    y_true_np = np.concatenate((y_true_np,y_np))\n",
    "        \n",
    "test_loss = test_loss_sum / len(test_loader)\n",
    "log = f\"Test MSE loss: {test_loss:.4f}  \"\n",
    "print(log)        "
   ]
  },
  {
   "cell_type": "code",
   "execution_count": 12,
   "id": "a1fa25a4",
   "metadata": {},
   "outputs": [
    {
     "name": "stdout",
     "output_type": "stream",
     "text": [
      "MSE: 0.6273\n",
      "RMSE: 0.792\n",
      "MAE: 0.5274\n",
      "MAPE: 26.5673\n"
     ]
    }
   ],
   "source": [
    "from sklearn.metrics import mean_squared_error\n",
    "mse = mean_squared_error(y_true_np,y_pred_np)\n",
    "rmse = np.sqrt(mean_squared_error(y_true_np,y_pred_np))\n",
    "\n",
    "print('MSE:',round(mse,4))\n",
    "print('RMSE:',round(rmse,4))\n",
    "\n",
    "from sklearn.metrics import mean_absolute_error\n",
    "#MAE\n",
    "def mae_value(y_true_np, y_pred_np):\n",
    "    mae = mean_absolute_error(y_true_np, y_pred_np)\n",
    "    return mae\n",
    "#MAPE\n",
    "from sklearn.utils import check_array\n",
    "def mean_absolute_percentage_error(y_true_np, y_pred_np): \n",
    "    y_true_np, y_pred_np = np.array(y_true_np), np.array(y_pred_np)\n",
    "    mape = np.mean(np.abs((y_true_np - y_pred_np) / y_true_np)) * 100\n",
    "    return mape\n",
    "\n",
    "MAE = mae_value(y_true_np,y_pred_np)\n",
    "print('MAE:',round(MAE,4))\n",
    "MAPE = mean_absolute_percentage_error(y_true_np,y_pred_np)\n",
    "print('MAPE:',round(MAPE,4))"
   ]
  },
  {
   "cell_type": "code",
   "execution_count": null,
   "id": "0cd4c028",
   "metadata": {},
   "outputs": [],
   "source": []
  }
 ],
 "metadata": {
  "kernelspec": {
   "display_name": "Python 3",
   "language": "python",
   "name": "python3"
  },
  "language_info": {
   "codemirror_mode": {
    "name": "ipython",
    "version": 3
   },
   "file_extension": ".py",
   "mimetype": "text/x-python",
   "name": "python",
   "nbconvert_exporter": "python",
   "pygments_lexer": "ipython3",
   "version": "3.6.13"
  }
 },
 "nbformat": 4,
 "nbformat_minor": 5
}
