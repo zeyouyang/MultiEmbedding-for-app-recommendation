{
 "cells": [
  {
   "cell_type": "code",
   "execution_count": 10,
   "id": "07cbc529",
   "metadata": {},
   "outputs": [],
   "source": [
    "import torch\n",
    "device = torch.device(\"cuda\" if torch.cuda.is_available() else \"cpu\")\n",
    "import torch.nn.functional as F\n",
    "from torch import optim\n",
    "import matplotlib.pyplot as plt\n",
    "import numpy as np\n",
    "import pandas as pd\n",
    "from tqdm import tqdm\n",
    "from timeit import default_timer as timer\n",
    "from torch.utils.data import DataLoader"
   ]
  },
  {
   "cell_type": "code",
   "execution_count": 11,
   "id": "07578b9d",
   "metadata": {},
   "outputs": [],
   "source": [
    "import torch.nn as nn\n",
    "import pytorch_lightning as pl\n",
    "from pytorch_forecasting import RMSE,MAE,MAPE"
   ]
  },
  {
   "cell_type": "markdown",
   "id": "d887c1a2",
   "metadata": {},
   "source": [
    "### x_train and  y_train"
   ]
  },
  {
   "cell_type": "code",
   "execution_count": 12,
   "id": "dc54c9e6",
   "metadata": {},
   "outputs": [],
   "source": [
    "x_train = torch.load('./data/google-RB.train.review.pt')\n",
    "x_test = torch.load('./data/google-RB.test.review.pt')\n",
    "x_val = torch.load('./data/google-RB.val.review.pt')\n",
    "\n",
    "y_train = torch.load('./data/google.train.rating.pt') \n",
    "y_test =torch.load('./data/google.test.rating.pt')\n",
    "y_val = torch.load('./data/google.val.rating.pt')\n"
   ]
  },
  {
   "cell_type": "markdown",
   "id": "9d2af3dd",
   "metadata": {},
   "source": [
    "### TensorDataset、Dataloader\n",
    "Dataloader：把 Dataset類轉換成方便model處理的東西"
   ]
  },
  {
   "cell_type": "code",
   "execution_count": 13,
   "id": "f9fb91ba",
   "metadata": {},
   "outputs": [],
   "source": [
    "import torch.utils.data as data_utils\n",
    "train_dataset = data_utils.TensorDataset(x_train, y_train)\n",
    "test_dataset = data_utils.TensorDataset(x_test, y_test)\n",
    "val_dataset = data_utils.TensorDataset(x_val, y_val)"
   ]
  },
  {
   "cell_type": "code",
   "execution_count": 14,
   "id": "2a0a3dc6",
   "metadata": {},
   "outputs": [],
   "source": [
    "batch_size = 32\n",
    "epochs = 50\n",
    "learning_rate =0.0001\n",
    "input_dim = 2*768\n",
    "\n",
    "train_loader = DataLoader(train_dataset, batch_size=batch_size, shuffle=True) \n",
    "test_loader = DataLoader(test_dataset, batch_size=batch_size, shuffle=False)\n",
    "val_loader = DataLoader(val_dataset, batch_size=batch_size, shuffle=False)"
   ]
  },
  {
   "cell_type": "markdown",
   "id": "22ac94a0",
   "metadata": {},
   "source": [
    "### 構建神經元網絡"
   ]
  },
  {
   "cell_type": "code",
   "execution_count": 15,
   "id": "ceee5354",
   "metadata": {},
   "outputs": [],
   "source": [
    "class NN(torch.nn.Module):\n",
    "    def __init__(self,rv_input_n,rv_output_dim):  \n",
    "        super(NN, self).__init__()  #繼承父class torch.nn.Module\n",
    "\n",
    "        self.dnn = torch.nn.Sequential(\n",
    "            torch.nn.Linear(rv_input_n,2048),\n",
    "            torch.nn.ReLU(),\n",
    "            torch.nn.Dropout(0.5),\n",
    "            torch.nn.Linear(2048,1024),\n",
    "            torch.nn.ReLU(),\n",
    "            torch.nn.Dropout(0.5),\n",
    "            torch.nn.Linear(1024,rv_output_dim),\n",
    "        )\n",
    "\n",
    "    def forward(self,x):\n",
    "        x = x.view(x.size(0), -1)\n",
    "        rv3 = self.dnn(x)\n",
    "\n",
    "        return rv3"
   ]
  },
  {
   "cell_type": "markdown",
   "id": "13909fba",
   "metadata": {},
   "source": [
    "### build model"
   ]
  },
  {
   "cell_type": "code",
   "execution_count": 16,
   "id": "f355114d",
   "metadata": {},
   "outputs": [],
   "source": [
    "nn_model = NN(input_dim,1).to(device)\n",
    "optimizer = torch.optim.Adam(nn_model.parameters(),lr=learning_rate, betas=(0.9, 0.999), eps=1e-08, weight_decay=0)  # amsgrad=False"
   ]
  },
  {
   "cell_type": "markdown",
   "id": "f08b136a",
   "metadata": {},
   "source": [
    "### train"
   ]
  },
  {
   "cell_type": "code",
   "execution_count": null,
   "id": "d5b7d707",
   "metadata": {
    "scrolled": true
   },
   "outputs": [],
   "source": [
    "loss_f = torch.nn.MSELoss()\n",
    "min_val_loss = 10\n",
    "\n",
    "for epoch in range(epochs):\n",
    "    train_loss_sum = 0.0\n",
    "    val_loss_sum = 0.0\n",
    "    train_loss = 0.0\n",
    "    val_loss = 0.0\n",
    "    \n",
    "    start_time = timer()\n",
    "    \n",
    "    #train model\n",
    "    nn_model.train()\n",
    "    for x_train,y_train in train_loader:\n",
    "        \n",
    "        x_train,y_train = x_train.to(device),y_train.to(device)\n",
    "        output = nn_model(x_train)\n",
    "        loss = loss_f(output, y_train)        \n",
    "        optimizer.zero_grad()\n",
    "        loss.backward()\n",
    "        optimizer.step()              \n",
    "        train_loss_sum += loss.item()\n",
    "\n",
    "    train_loss = train_loss_sum / len(train_loader)\n",
    "    train_time = round(timer() - start_time)\n",
    "\n",
    "    #val\n",
    "    nn_model.eval()\n",
    "    for x_val,y_val in val_loader: \n",
    "\n",
    "        x_val,y_val = x_val.to(device),y_val.to(device)\n",
    "        val_output = nn_model(x_val)\n",
    "        loss = loss_f(val_output, y_val)\n",
    "        val_loss_sum += loss.item()\n",
    "        \n",
    "    val_loss = val_loss_sum / len(val_loader)\n",
    "    \n",
    "    # val_loss若小於當前最好的loss就把模型存起來\n",
    "    if val_loss < min_val_loss:\n",
    "        min_val_loss = val_loss\n",
    "        #若要存在其他地方檔案位置要改\n",
    "        model_out_file = './model_2rv/RV2-RB-2048-1024-valMSE_{:.4f}-batch_size_{}-lr_{}-epoch_{}.model'.format(\n",
    "                    val_loss,\n",
    "                    batch_size,\n",
    "                    learning_rate,\n",
    "                    epoch+1)\n",
    "        torch.save(nn_model.state_dict(), model_out_file)\n",
    "    \n",
    "    log = f\"[Epoch:{epoch+1}] Train MSE: {train_loss:.4f} Val MSE: {val_loss:.4f} Epoch train time = {train_time:.3f}s \"\n",
    "    print(log)"
   ]
  },
  {
   "cell_type": "markdown",
   "id": "0ad86d7d",
   "metadata": {},
   "source": [
    "#### 以下test 若要改跑其他模型或檔案 要更改檔案位置"
   ]
  },
  {
   "cell_type": "code",
   "execution_count": 20,
   "id": "911d2ad5",
   "metadata": {
    "scrolled": true
   },
   "outputs": [
    {
     "name": "stdout",
     "output_type": "stream",
     "text": [
      "Test MSE loss: 0.6670  \n"
     ]
    }
   ],
   "source": [
    "# load model\n",
    "nn_model = NN(input_dim,1).to(device)\n",
    "nn_model.load_state_dict(torch.load('./model_2rv/RV2-RB-2layer-2048-1024-valMSE_0.6713-batch_size_32-lr_0.0001-epoch_50.model'))\n",
    "\n",
    "nn_model.eval()\n",
    "loss_f = torch.nn.MSELoss()\n",
    "test_loss_sum = 0.0\n",
    "\n",
    "lst=[]\n",
    "y_pred_np = np.array(lst)\n",
    "y_true_np = np.array(lst)\n",
    "\n",
    "for x_test,y_test in test_loader: \n",
    "    \n",
    "    x_test,y_test = x_test.to(device),y_test.to(device)\n",
    "    y_hat = nn_model(x_test)\n",
    "    loss = loss_f(y_hat, y_test)\n",
    "    test_loss_sum += loss.item()   \n",
    "\n",
    "    y_hat = y_hat.view(-1)\n",
    "    y_test = y_test.view(-1)\n",
    "    y_hat = y_hat.cpu().detach().numpy()\n",
    "    y_np = y_test.cpu().detach().numpy()\n",
    "    \n",
    "    y_pred_np = np.concatenate((y_pred_np,y_hat))\n",
    "    y_true_np = np.concatenate((y_true_np,y_np))\n",
    "        \n",
    "test_loss = test_loss_sum / len(test_loader)\n",
    "log = f\"Test MSE loss: {test_loss:.4f}  \"\n",
    "print(log)        "
   ]
  },
  {
   "cell_type": "code",
   "execution_count": 21,
   "id": "d3e016bd",
   "metadata": {},
   "outputs": [
    {
     "name": "stdout",
     "output_type": "stream",
     "text": [
      "MSE: 0.667\n",
      "RMSE: 0.8167\n",
      "MAE: 0.538\n",
      "MAPE: 26.1139\n"
     ]
    }
   ],
   "source": [
    "from sklearn.metrics import mean_squared_error\n",
    "mse = mean_squared_error(y_true_np,y_pred_np)\n",
    "rmse = np.sqrt(mean_squared_error(y_true_np,y_pred_np))\n",
    "\n",
    "print('MSE:',round(mse,4))\n",
    "print('RMSE:',round(rmse,4))\n",
    "\n",
    "from sklearn.metrics import mean_absolute_error\n",
    "#MAE\n",
    "def mae_value(y_true_np, y_pred_np):\n",
    "    mae = mean_absolute_error(y_true_np, y_pred_np)\n",
    "    return mae\n",
    "#MAPE\n",
    "from sklearn.utils import check_array\n",
    "def mean_absolute_percentage_error(y_true_np, y_pred_np): \n",
    "    y_true_np, y_pred_np = np.array(y_true_np), np.array(y_pred_np)\n",
    "    mape = np.mean(np.abs((y_true_np - y_pred_np) / y_true_np)) * 100\n",
    "    return mape\n",
    "MAE = mae_value(y_true_np,y_pred_np)\n",
    "print('MAE:',round(MAE,4))\n",
    "MAPE = mean_absolute_percentage_error(y_true_np,y_pred_np)\n",
    "print('MAPE:',round(MAPE,4))"
   ]
  },
  {
   "cell_type": "code",
   "execution_count": null,
   "id": "7de84639",
   "metadata": {},
   "outputs": [],
   "source": []
  }
 ],
 "metadata": {
  "kernelspec": {
   "display_name": "Python 3",
   "language": "python",
   "name": "python3"
  },
  "language_info": {
   "codemirror_mode": {
    "name": "ipython",
    "version": 3
   },
   "file_extension": ".py",
   "mimetype": "text/x-python",
   "name": "python",
   "nbconvert_exporter": "python",
   "pygments_lexer": "ipython3",
   "version": "3.6.13"
  }
 },
 "nbformat": 4,
 "nbformat_minor": 5
}
