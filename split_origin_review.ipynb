{
 "cells": [
  {
   "cell_type": "markdown",
   "id": "5ed33932",
   "metadata": {},
   "source": [
    "### 分別取得: 訓練/驗證/測試 原始評論\n",
    "##### train_orgin_rv.csv\n",
    "##### val_orgin_rv.csv\n",
    "##### test_orgin_rv.csv"
   ]
  },
  {
   "cell_type": "code",
   "execution_count": 1,
   "id": "92acc497",
   "metadata": {},
   "outputs": [],
   "source": [
    "import pandas as pd\n",
    "import os\n",
    "from pandas.core.frame import DataFrame\n",
    "\n",
    "# ALL_ORIGIN_DATA_review.csv 僅:index/評論/appID/userID\n",
    "df = pd.read_csv(\"./Data/ALL_ORIGIN_DATA_review.csv\")"
   ]
  },
  {
   "cell_type": "code",
   "execution_count": 2,
   "id": "e2c1bb7c",
   "metadata": {},
   "outputs": [
    {
     "data": {
      "text/plain": [
       "1116196"
      ]
     },
     "execution_count": 2,
     "metadata": {},
     "output_type": "execute_result"
    }
   ],
   "source": [
    "all_rv = list(df['review'])\n",
    "len(all_rv)"
   ]
  },
  {
   "cell_type": "code",
   "execution_count": 3,
   "id": "eac1c3d0",
   "metadata": {},
   "outputs": [
    {
     "data": {
      "text/plain": [
       "904120"
      ]
     },
     "execution_count": 3,
     "metadata": {},
     "output_type": "execute_result"
    }
   ],
   "source": [
    "df_train_index = pd.read_csv(\"./Data/train_index.txt\")\n",
    "train_index = list(df_train_index['review_index'])\n",
    "len(train_index)"
   ]
  },
  {
   "cell_type": "code",
   "execution_count": 4,
   "id": "b02611dc",
   "metadata": {},
   "outputs": [
    {
     "data": {
      "text/plain": [
       "111619"
      ]
     },
     "execution_count": 4,
     "metadata": {},
     "output_type": "execute_result"
    }
   ],
   "source": [
    "df_test_index = pd.read_csv(\"./Data/test_index.txt\")\n",
    "test_index = list(df_test_index['review_index'])\n",
    "len(test_index)"
   ]
  },
  {
   "cell_type": "code",
   "execution_count": 5,
   "id": "8644769e",
   "metadata": {},
   "outputs": [
    {
     "data": {
      "text/plain": [
       "100457"
      ]
     },
     "execution_count": 5,
     "metadata": {},
     "output_type": "execute_result"
    }
   ],
   "source": [
    "df_val_index = pd.read_csv(\"./Data/val_index.txt\")\n",
    "val_index = list(df_val_index['review_index'])\n",
    "len(val_index)"
   ]
  },
  {
   "cell_type": "code",
   "execution_count": 6,
   "id": "1a176c2d",
   "metadata": {},
   "outputs": [],
   "source": [
    "train_rv = []\n",
    "test_rv = []\n",
    "val_rv = []\n",
    "\n",
    "for cnt_i,i in enumerate(train_index):\n",
    "    train_rv.append(all_rv[i])\n",
    "\n",
    "for cnt_i,i in enumerate(test_index):\n",
    "    test_rv.append(all_rv[i])    \n",
    "    \n",
    "for cnt_i,i in enumerate(val_index):\n",
    "    val_rv.append(all_rv[i])"
   ]
  },
  {
   "cell_type": "code",
   "execution_count": 7,
   "id": "bd316d16",
   "metadata": {},
   "outputs": [],
   "source": [
    "from pandas.core.frame import DataFrame\n",
    "train_rv_dic={'review' : train_rv}\n",
    "train_rv_df = DataFrame(train_rv_dic)\n",
    "train_rv_df.to_csv('./Data/train_orgin_rv.csv',index=False, encoding='utf-8')\n",
    "\n",
    "val_rv_dic={'review' : val_rv}\n",
    "val_rv_df = DataFrame(val_rv_dic)\n",
    "val_rv_df.to_csv('./Data/val_orgin_rv.csv',index=False, encoding='utf-8')\n",
    "\n",
    "test_rv_dic={'review' : test_rv}\n",
    "test_rv_df = DataFrame(test_rv_dic)\n",
    "test_rv_df.to_csv('./Data/test_orgin_rv.csv',index=False, encoding='utf-8')"
   ]
  },
  {
   "cell_type": "code",
   "execution_count": null,
   "id": "484e5c15",
   "metadata": {},
   "outputs": [],
   "source": []
  }
 ],
 "metadata": {
  "kernelspec": {
   "display_name": "Python 3",
   "language": "python",
   "name": "python3"
  },
  "language_info": {
   "codemirror_mode": {
    "name": "ipython",
    "version": 3
   },
   "file_extension": ".py",
   "mimetype": "text/x-python",
   "name": "python",
   "nbconvert_exporter": "python",
   "pygments_lexer": "ipython3",
   "version": "3.6.13"
  }
 },
 "nbformat": 4,
 "nbformat_minor": 5
}
