{
 "cells": [
  {
   "cell_type": "code",
   "execution_count": 1,
   "id": "07cbc529",
   "metadata": {},
   "outputs": [],
   "source": [
    "import torch\n",
    "device = torch.device(\"cuda\" if torch.cuda.is_available() else \"cpu\")\n",
    "import torch.nn.functional as F\n",
    "import torch.nn as nn\n",
    "from torch import optim\n",
    "import matplotlib.pyplot as plt\n",
    "import numpy as np\n",
    "import pandas as pd\n",
    "from tqdm import tqdm\n",
    "from timeit import default_timer as timer\n",
    "\n",
    "import pytorch_lightning as pl\n",
    "from pytorch_forecasting import RMSE,MAE,MAPE\n",
    "from prettytable import PrettyTable"
   ]
  },
  {
   "cell_type": "markdown",
   "id": "d887c1a2",
   "metadata": {},
   "source": [
    "### Loading data\n",
    "appId userId rating : int32"
   ]
  },
  {
   "cell_type": "code",
   "execution_count": 2,
   "id": "dc54c9e6",
   "metadata": {},
   "outputs": [],
   "source": [
    "# 讀入\"train/test/val userId/appId/rating\" \n",
    "\n",
    "train_userId = torch.load('./data/google.train.userId.pt') \n",
    "train_appId = torch.load('./data/google.train.appId.pt')\n",
    "train_rating = torch.load('./data/google.train.rating.pt')\n",
    "\n",
    "val_userId = torch.load('./data/google.val.userId.pt')  \n",
    "val_appId = torch.load('./data/google.val.appId.pt') \n",
    "val_rating = torch.load('./data/google.val.rating.pt') \n",
    "\n",
    "test_userId = torch.load('./data/google.test.userId.pt')  \n",
    "test_appId = torch.load('./data/google.test.appId.pt')\n",
    "test_rating = torch.load('./data/google.test.rating.pt') "
   ]
  },
  {
   "cell_type": "code",
   "execution_count": 3,
   "id": "22fb739f",
   "metadata": {},
   "outputs": [],
   "source": [
    "# 降維\n",
    "train_userId = train_userId.view(-1)  \n",
    "train_appId = train_appId.view(-1)  \n",
    "train_rating = train_rating.view(-1) \n",
    "\n",
    "val_userId = val_userId.view(-1) \n",
    "val_appId =val_appId.view(-1)\n",
    "val_rating = val_rating.view(-1)\n",
    "\n",
    "test_userId = test_userId.view(-1) \n",
    "test_appId = test_appId.view(-1)\n",
    "test_rating = test_rating.view(-1)"
   ]
  },
  {
   "cell_type": "code",
   "execution_count": 4,
   "id": "122fd3b1",
   "metadata": {},
   "outputs": [],
   "source": [
    "# get_user_item_matrix_indices\n",
    "user_indices, item_indices, ratings = [], [], []\n",
    "for idx,i in enumerate(train_rating):\n",
    "    user_indices.append(train_userId[idx])\n",
    "    item_indices.append(train_appId[idx])\n",
    "    ratings.append(i)\n",
    "    \n",
    "user_item_rating_indices = [np.array(user_indices), np.array(item_indices), np.array(ratings)]   \n",
    "user_indices, item_incides, rating_data = user_item_rating_indices"
   ]
  },
  {
   "cell_type": "markdown",
   "id": "b6c8495e",
   "metadata": {},
   "source": [
    "### 模型參數"
   ]
  },
  {
   "cell_type": "code",
   "execution_count": 5,
   "id": "357bc871",
   "metadata": {},
   "outputs": [],
   "source": [
    "batch_size = 32\n",
    "epochs = 50\n",
    "learning_rate =0.0001\n",
    "layers = [128,64] #原文設置 # 深度矩陣分解部分的層數與神經元數量\n",
    "layers_cat1 = [128,64,1] # user和item 串聯後的各dnn層神經元數:128/64\n"
   ]
  },
  {
   "cell_type": "markdown",
   "id": "9d2af3dd",
   "metadata": {},
   "source": [
    "### TensorDataset、Dataloader\n",
    "Dataloader：把 Dataset類轉換成方便model處理的東西"
   ]
  },
  {
   "cell_type": "code",
   "execution_count": 6,
   "id": "83a7a5fe",
   "metadata": {},
   "outputs": [],
   "source": [
    "from torch.utils.data import DataLoader, Dataset\n",
    "class UserItemRatingDataset(Dataset):\n",
    "    def __init__(self, user, item, target):\n",
    "        self.user = user\n",
    "        self.item = item\n",
    "        self.target = target\n",
    "        \n",
    "    def __getitem__(self, index):\n",
    "        return self.user[index], self.item[index], self.target[index]\n",
    "    \n",
    "    def __len__(self):\n",
    "        return self.user.size(0)"
   ]
  },
  {
   "cell_type": "code",
   "execution_count": 7,
   "id": "ea38118c",
   "metadata": {},
   "outputs": [],
   "source": [
    "train_dataset = UserItemRatingDataset(train_userId, train_appId, train_rating)\n",
    "train_loader = DataLoader(train_dataset, batch_size=batch_size, shuffle=True)\n",
    "\n",
    "test_dataset = UserItemRatingDataset(test_userId, test_appId, test_rating)\n",
    "test_loader = DataLoader(test_dataset, batch_size=batch_size, shuffle=False)\n",
    "\n",
    "val_dataset = UserItemRatingDataset(val_userId, val_appId, val_rating)\n",
    "val_loader = DataLoader(val_dataset, batch_size=batch_size, shuffle=True)"
   ]
  },
  {
   "cell_type": "markdown",
   "id": "22ac94a0",
   "metadata": {},
   "source": [
    "### 構建神經元網絡"
   ]
  },
  {
   "cell_type": "code",
   "execution_count": 8,
   "id": "ceee5354",
   "metadata": {},
   "outputs": [],
   "source": [
    "class RA_model(torch.nn.Module):\n",
    "    def __init__(self, num_users, num_items, layers, layers_cat1):  \n",
    "        \n",
    "        super().__init__()  #繼承父class torch.nn.Module\n",
    "        self.num_users = num_users\n",
    "        self.num_items = num_items\n",
    "        self.latent_dim = layers[0]\n",
    "        self.layers = layers\n",
    "        self.latent_dim_concat1 = layers_cat1[0] #pi qj串連後再丟進dnn網路訓練\n",
    "        self.layers_cat1 = layers_cat1\n",
    "        self.user_str = 'torch.int64'\n",
    "        #傳入評分矩陣數據\n",
    "        self.user_item_indices = torch.LongTensor([user_indices, item_indices]) #行列: 即 userId/itemId\n",
    "        # user_item_indices:存在rating的人所對應的 user/item 組\n",
    "        self.rating_data = train_rating\n",
    "        self.user_item_matrix = torch.sparse_coo_tensor(self.user_item_indices,\n",
    "                                                        self.rating_data,\n",
    "                                                        torch.Size((self.num_users, self.num_items))).to_dense().to(device)\n",
    "        '''\n",
    "        torch.sparse_coo_tensor 存稀疏矩陣\n",
    "        torch.spares_coo_tensor(indices(行&列), values(評分), siez=None(矩陣大小),*, dtype=None, requires_grad=False)->Tensor\n",
    "        https://remotedesktop.google.com/access/session/dd38facf-dab1-aca9-3734-98b9f771622\n",
    "        '''\n",
    "        # 先分別給定用戶/項目第一層神經網路的參數                                        \n",
    "        self.linear_user_1 = nn.Linear(in_features=self.num_items, out_features=self.latent_dim)\n",
    "        self.linear_user_1.weight.detach().normal_(0, 0.01) # 類似手動讓權重初始化的一種方法 \n",
    "        self.linear_item_1 = nn.Linear(in_features=self.num_users, out_features=self.latent_dim)\n",
    "        self.linear_item_1.weight.detach().normal_(0, 0.01)  \n",
    "        \n",
    "        self.linear_concat1_1 = nn.Linear(in_features=128, out_features=self.latent_dim_concat1) # in_features=use+item\n",
    "        self.linear_concat1_1.weight.detach().normal_(0, 0.01)  \n",
    "        '''\n",
    "        nn.ModuleList() 和 nn.Sequential 一樣是一種容器，可以把任意nn.Module的子類(如nn.Conv2d, nn.Linear)加到該list，\n",
    "        方法同一般list(extend，append等)    https://zhuanlan.zhihu.com/p/64990232\n",
    "        '''\n",
    "        self.user_fc_layers = nn.ModuleList()\n",
    "        for idx in range(1, len(self.layers)):\n",
    "            self.user_fc_layers.append(nn.Linear(in_features=self.layers[idx - 1], out_features=self.layers[idx]))\n",
    "\n",
    "        self.item_fc_layers = nn.ModuleList()\n",
    "        for idx in range(1, len(self.layers)):\n",
    "            self.item_fc_layers.append(nn.Linear(in_features=self.layers[idx - 1], out_features=self.layers[idx]))\n",
    "            \n",
    "        self.concat1_layers = nn.ModuleList()\n",
    "        for idx in range(1, len(self.layers_cat1)):\n",
    "            self.concat1_layers.append(nn.Linear(in_features=self.layers_cat1[idx - 1], out_features=self.layers_cat1[idx]))\n",
    "        \n",
    "        self.dropout_layer  = torch.nn.Dropout(0.5)\n",
    "        \n",
    "    def forward(self, user_indices, item_indices, idx):\n",
    "        \n",
    "        user = self.user_item_matrix[user_indices] # user:稀疏矩陣裡第幾筆評分的用戶是誰 \n",
    "        item = self.user_item_matrix[:, item_indices].t() # 轉置矩陣  \n",
    "        \n",
    "        user = self.linear_user_1(user)\n",
    "        item = self.linear_item_1(item)\n",
    "\n",
    "        for idx in range(len(self.layers) - 1):\n",
    "            user = F.relu(user)\n",
    "            user = self.dropout_layer(user)\n",
    "            user = self.user_fc_layers[idx](user)\n",
    "\n",
    "        for idx in range(len(self.layers) - 1):\n",
    "            item = F.relu(item)\n",
    "            item = self.dropout_layer(item)\n",
    "            item = self.item_fc_layers[idx](item) \n",
    "\n",
    "        concat_user_item = torch.cat((user, item), 1)  #串聯pi和qj\n",
    "        \n",
    "        #丟入神經網路訓練      \n",
    "        concat_user_item = self.linear_concat1_1(concat_user_item)\n",
    "        for idx in range(len(self.layers_cat1) - 1):\n",
    "            concat_user_item = F.relu(concat_user_item)\n",
    "            concat_user_item = self.dropout_layer(concat_user_item)\n",
    "            concat_user_item = self.concat1_layers[idx](concat_user_item)  \n",
    "        y_hat = concat_user_item.view(-1)\n",
    "        return y_hat"
   ]
  },
  {
   "cell_type": "code",
   "execution_count": 9,
   "id": "f355114d",
   "metadata": {},
   "outputs": [],
   "source": [
    "def count_parameters(model):\n",
    "    table = PrettyTable([\"Modules\", \"Parameters\"])\n",
    "    total_params = 0\n",
    "    for name, parameter in model.named_parameters():\n",
    "        if not parameter.requires_grad: \n",
    "            continue\n",
    "        param = parameter.numel()\n",
    "        table.add_row([name, param])\n",
    "        total_params+=param\n",
    "    print(table)\n",
    "    print(f\"Total Trainable Params: {total_params}\")\n",
    "    return total_params\n",
    "\n",
    "#build model\n",
    "ra_model = RA_model(135331,9095, layers, layers_cat1).to(device) # num_users=135331, num_items=9095\n",
    "optimizer = torch.optim.Adam(ra_model.parameters(),lr=learning_rate)  \n"
   ]
  },
  {
   "cell_type": "markdown",
   "id": "f08b136a",
   "metadata": {},
   "source": [
    "### train"
   ]
  },
  {
   "cell_type": "code",
   "execution_count": null,
   "id": "745e885c",
   "metadata": {},
   "outputs": [],
   "source": [
    "loss_f = torch.nn.MSELoss()\n",
    "min_val_loss = 10\n",
    "\n",
    "for epoch in range(epochs):\n",
    "    train_loss_sum = 0.0\n",
    "    val_loss_sum = 0.0\n",
    "    train_loss = 0.0\n",
    "    val_loss = 0.0 \n",
    "    start_time = timer()\n",
    "    \n",
    "    #train model\n",
    "    ra_model.train()\n",
    "    for idx, (user, item, y) in enumerate(train_loader): \n",
    "        user = user.long()\n",
    "        item = item.long()\n",
    "        user, item, y = user.to(device), item.to(device), y.to(device)\n",
    "        \n",
    "        # forward\n",
    "        y_hat = ra_model(user, item, idx)        \n",
    "        loss = loss_f(y_hat, y)\n",
    "        optimizer.zero_grad()\n",
    "        loss.backward()\n",
    "        optimizer.step()              \n",
    "        train_loss_sum += loss.item()\n",
    "\n",
    "    train_loss = train_loss_sum / len(train_loader)\n",
    "    train_time = round(timer() - start_time)\n",
    "\n",
    "    #val\n",
    "    ra_model.eval()\n",
    "    for idx,(user,item,y) in enumerate(val_loader):\n",
    "        \n",
    "        user = user.long()\n",
    "        item = item.long()\n",
    "        \n",
    "        user, item, y = user.to(device), item.to(device), y.to(device)\n",
    "        y_hat = ra_model(user, item,idx)   \n",
    "        loss = loss_f(y_hat, y) \n",
    "        val_loss_sum += loss.item()\n",
    "        \n",
    "    val_loss = val_loss_sum / len(val_loader)\n",
    "    \n",
    "    # val_loss若小於當前最好的loss就把模型存起來\n",
    "    if val_loss < min_val_loss:\n",
    "        min_val_loss = val_loss\n",
    "        \n",
    "        #若要存在其他地方檔案位置要改\n",
    "        model_out_file = './model_ra/ramodel-128-64-128-64-valMSE_{:.4f}-batch_size_{}-lr_{}-epoch_{}.model'.format(\n",
    "                    val_loss,\n",
    "                    batch_size,\n",
    "                    learning_rate,\n",
    "                    epoch+1)\n",
    "        torch.save(ra_model.state_dict(), model_out_file)\n",
    "    \n",
    "    log = f\"[Epoch:{epoch+1}] Train MSE: {train_loss:.4f} Val MSE: {val_loss:.4f} Epoch train time = {train_time:.3f}s \"\n",
    "    print(log)"
   ]
  },
  {
   "cell_type": "markdown",
   "id": "472f90d5",
   "metadata": {},
   "source": [
    "#### 以下test 若要改跑其他模型或檔案 要更改檔案位置"
   ]
  },
  {
   "cell_type": "code",
   "execution_count": 22,
   "id": "911d2ad5",
   "metadata": {
    "scrolled": true
   },
   "outputs": [
    {
     "name": "stdout",
     "output_type": "stream",
     "text": [
      "Test MSE loss: 1.75163  \n"
     ]
    }
   ],
   "source": [
    "# load model\n",
    "ra_model = RA_model(135331,9095, layers, layers_cat1).to(device)\n",
    "ra_model.load_state_dict(torch.load('./model_ra/ramodel-128-64-128-64-valMSE_1.4588-batch_size_32-lr_0.0001-epoch_13.model'))\n",
    "ra_model.eval()\n",
    "loss_f = torch.nn.MSELoss()\n",
    "test_loss_sum = 0.0\n",
    "\n",
    "lst=[]\n",
    "y_pred_np = np.array(lst)\n",
    "y_true_np = np.array(lst)\n",
    "\n",
    "for idx, (user, item, y) in enumerate(test_loader): \n",
    "    user = user.long()\n",
    "    item = item.long()\n",
    "    user, item, y = user.to(device), item.to(device), y.to(device)\n",
    "    y_hat = ra_model(user, item, idx) \n",
    "    test_loss = loss_f(y_hat, y)\n",
    "    optimizer.zero_grad()\n",
    "    test_loss.backward()\n",
    "    optimizer.step()              \n",
    "    test_loss_sum += test_loss.item()\n",
    "    \n",
    "    y_hat = y_hat.cpu().detach().numpy()\n",
    "    y_np = y.cpu().detach().numpy()\n",
    "\n",
    "    y_pred_np = np.concatenate((y_pred_np,y_hat))\n",
    "    y_true_np = np.concatenate((y_true_np,y_np))\n",
    "\n",
    "test_loss = test_loss_sum / len(test_loader)\n",
    "log = f\"Test MSE loss: {test_loss:.5f}  \"\n",
    "print(log)       "
   ]
  },
  {
   "cell_type": "code",
   "execution_count": 23,
   "id": "540f7984",
   "metadata": {},
   "outputs": [
    {
     "name": "stdout",
     "output_type": "stream",
     "text": [
      "MSE: 1.7511\n",
      "RMSE: 1.3233\n",
      "MAE: 0.9855\n",
      "MAPE: 50.8045\n"
     ]
    }
   ],
   "source": [
    "from sklearn.metrics import mean_squared_error\n",
    "mse = mean_squared_error(y_true_np,y_pred_np)\n",
    "rmse = np.sqrt(mean_squared_error(y_true_np,y_pred_np))\n",
    "\n",
    "print('MSE:',round(mse,5))\n",
    "print('RMSE:',round(rmse,4))\n",
    "\n",
    "#MAE\n",
    "from sklearn.metrics import mean_absolute_error\n",
    "def mae_value(y_true_np, y_pred_np):\n",
    "    mae = mean_absolute_error(y_true_np, y_pred_np)\n",
    "    return mae\n",
    "MAE = mae_value(y_true_np,y_pred_np)\n",
    "print('MAE:',round(MAE,4))\n",
    "\n",
    "#MAPE\n",
    "from sklearn.metrics import mean_absolute_percentage_error\n",
    "MAPE = mean_absolute_percentage_error(y_true_np,y_pred_np)*100\n",
    "print('MAPE:',round(MAPE,4))\n"
   ]
  },
  {
   "cell_type": "code",
   "execution_count": null,
   "id": "29c324f5",
   "metadata": {},
   "outputs": [],
   "source": []
  }
 ],
 "metadata": {
  "kernelspec": {
   "display_name": "Python 3",
   "language": "python",
   "name": "python3"
  },
  "language_info": {
   "codemirror_mode": {
    "name": "ipython",
    "version": 3
   },
   "file_extension": ".py",
   "mimetype": "text/x-python",
   "name": "python",
   "nbconvert_exporter": "python",
   "pygments_lexer": "ipython3",
   "version": "3.6.13"
  }
 },
 "nbformat": 4,
 "nbformat_minor": 5
}
