{
 "cells": [
  {
   "cell_type": "code",
   "execution_count": 1,
   "id": "07cbc529",
   "metadata": {},
   "outputs": [],
   "source": [
    "from torch import nn\n",
    "import torch\n",
    "from tqdm import tqdm\n",
    "import matplotlib.pyplot as plt\n",
    "import numpy as np\n",
    "import pandas as pd\n",
    "import pickle\n",
    "from pandas.core.frame import DataFrame"
   ]
  },
  {
   "cell_type": "markdown",
   "id": "dbca9762",
   "metadata": {},
   "source": [
    "### 載入資料"
   ]
  },
  {
   "cell_type": "code",
   "execution_count": null,
   "id": "991cd81c",
   "metadata": {},
   "outputs": [],
   "source": [
    "# train\n",
    "\n",
    "from dask import dataframe as dd\n",
    "import time\n",
    "start = time.time()\n",
    "dask_df = dd.read_csv('./Data/train_data_dd.csv/*')\n",
    "end = time.time()\n",
    "\n",
    "train_data = dask_df\n",
    "train_data.head()"
   ]
  },
  {
   "cell_type": "code",
   "execution_count": null,
   "id": "4b69d7b7",
   "metadata": {},
   "outputs": [],
   "source": [
    "# test\n",
    "df_test_data = open('./Data/test_data','rb') # 讀入用rb\n",
    "test_data=pickle.load(df_test_data) \n",
    "df_test_data.close()\n",
    "test_data.head()"
   ]
  },
  {
   "cell_type": "code",
   "execution_count": null,
   "id": "e4a5e24a",
   "metadata": {},
   "outputs": [],
   "source": [
    "# val\n",
    "df_val_data = open('./Data/val_data','rb') # 讀入用rb\n",
    "val_data=pickle.load(df_val_data) \n",
    "df_val_data.close()\n",
    "val_data.head()"
   ]
  },
  {
   "cell_type": "markdown",
   "id": "99a21470",
   "metadata": {},
   "source": [
    "#### google.val.userId.pt ：userId；torch.Size([100457, 1])\n",
    "#### google.val.appId.pt ：appId；torch.Size([100457, 1])\n",
    "#### google.val.rating.pt ：rating；torch.Size([100457, 1])"
   ]
  },
  {
   "cell_type": "code",
   "execution_count": null,
   "id": "89146cf7",
   "metadata": {},
   "outputs": [],
   "source": [
    "val_userId = np.array(list(val_data['userId'])).tolist()\n",
    "val_userId = torch.tensor(val_userId, dtype=torch.float32)\n",
    "val_userId = torch.unsqueeze(val_userId,dim=1) \n",
    "torch.save(val_userId, './data/google.val.userId.pt')  \n",
    "\n",
    "val_appId = np.array(list(val_data['appId'])).tolist()\n",
    "val_appId = torch.tensor(val_appId, dtype=torch.float32)\n",
    "val_appId = torch.unsqueeze(val_appId,dim=1) \n",
    "torch.save(val_appId, './data/google.val.appId.pt')  \n",
    "\n",
    "\n",
    "val_rating = np.array(list(val_data['rating'])).tolist()\n",
    "val_rating = torch.tensor(val_rating, dtype=torch.float32)\n",
    "val_rating = torch.unsqueeze(val_rating,dim=1) \n",
    "torch.save(val_rating, './data/google.val.rating.pt')  "
   ]
  },
  {
   "cell_type": "code",
   "execution_count": null,
   "id": "29f343ac",
   "metadata": {},
   "outputs": [],
   "source": [
    "print(val_userId.shape)\n",
    "print(val_userId[0])\n",
    "\n",
    "print(val_appId.shape)\n",
    "print(val_appId[0])\n",
    "\n",
    "print(val_rating.shape)\n",
    "print(val_rating[0])"
   ]
  },
  {
   "cell_type": "markdown",
   "id": "3ae6c8d1",
   "metadata": {},
   "source": [
    "#### google.train.userId ：userId；torch.Size([904120, 1])\n",
    "#### google.train.appId ：appId；torch.Size([904120, 1])\n",
    "#### google.train.rating ：rating；torch.Size([904120, 1])"
   ]
  },
  {
   "cell_type": "code",
   "execution_count": null,
   "id": "1ec5d1b5",
   "metadata": {},
   "outputs": [],
   "source": [
    "train_userId = np.array(list(train_data['userId'])).tolist()\n",
    "train_userId = torch.tensor(train_userId, dtype=torch.float32)\n",
    "train_userId = torch.unsqueeze(train_userId,dim=1) \n",
    "torch.save(train_userId, './data/google.train.userId.pt')  \n",
    "\n",
    "train_appId = np.array(list(train_data['appId'])).tolist()\n",
    "train_appId = torch.tensor(train_appId, dtype=torch.float32)\n",
    "train_appId = torch.unsqueeze(train_appId,dim=1) \n",
    "torch.save(train_appId, './data/google.train.appId.pt')  \n",
    "\n",
    "\n",
    "train_rating = np.array(list(train_data['rating'])).tolist()\n",
    "train_rating = torch.tensor(train_rating, dtype=torch.float32)\n",
    "train_rating = torch.unsqueeze(train_rating,dim=1) \n",
    "torch.save(train_rating, './data/google.train.rating.pt')  "
   ]
  },
  {
   "cell_type": "code",
   "execution_count": null,
   "id": "08ff5416",
   "metadata": {},
   "outputs": [],
   "source": [
    "print(train_userId.shape)\n",
    "print(train_userId[5])\n",
    "\n",
    "print(train_appId.shape)\n",
    "print(train_appId[5])\n",
    "\n",
    "print(train_rating.shape)\n",
    "train_rating[5]"
   ]
  },
  {
   "cell_type": "markdown",
   "id": "7d57da39",
   "metadata": {},
   "source": [
    "#### google.test.userId ：userId；torch.Size([111619, 1])\n",
    "\n",
    "#### google.test.appId ：appId；torch.Size([111619, 1])\n",
    "\n",
    "#### google.test.rating ：rating；torch.Size([111619, 1])"
   ]
  },
  {
   "cell_type": "code",
   "execution_count": null,
   "id": "ccb8f2dc",
   "metadata": {},
   "outputs": [],
   "source": [
    "test_userId = np.array(list(test_data['userId'])).tolist()\n",
    "test_userId = torch.tensor(test_userId, dtype=torch.float32)\n",
    "test_userId = torch.unsqueeze(test_userId,dim=1) \n",
    "torch.save(test_userId, './data/google.test.userId.pt')  \n",
    "\n",
    "test_appId = np.array(list(test_data['appId'])).tolist()\n",
    "test_appId = torch.tensor(test_appId, dtype=torch.float32)\n",
    "test_appId = torch.unsqueeze(test_appId,dim=1) \n",
    "torch.save(test_appId, './data/google.test.appId.pt')  \n",
    "\n",
    "test_rating = np.array(list(test_data['rating'])).tolist()\n",
    "test_rating = torch.tensor(test_rating, dtype=torch.float32)\n",
    "test_rating = torch.unsqueeze(test_rating,dim=1) \n",
    "torch.save(test_rating, './data/google.test.rating.pt')  "
   ]
  },
  {
   "cell_type": "code",
   "execution_count": null,
   "id": "a5b4815d",
   "metadata": {},
   "outputs": [],
   "source": [
    "print(test_userId.shape)\n",
    "print(test_userId[0])\n",
    "\n",
    "print(test_appId.shape)\n",
    "print(test_appId[0])\n",
    "\n",
    "print(test_rating.shape)\n",
    "test_rating[0]"
   ]
  },
  {
   "cell_type": "markdown",
   "id": "97ce7152",
   "metadata": {},
   "source": [
    "### train_1review R/B"
   ]
  },
  {
   "cell_type": "code",
   "execution_count": null,
   "id": "fce3b074",
   "metadata": {},
   "outputs": [],
   "source": [
    "#R\n",
    "train_1reR = train_data['roberta_embedding']\n",
    "train_1reR = np.array(train_1reR).tolist()\n",
    "\n",
    "R_train = []\n",
    "\n",
    "for i in range(len(train_1reR)):\n",
    "    roberta_arr = np.array(train_1reR[i].replace('[','').replace(']','').split(','),dtype=np.float32)\n",
    "    r = np.array([roberta_arr])\n",
    "    R_train.append(r)\n",
    "\n",
    "R_v = torch.tensor(R_train, dtype=torch.float32) \n",
    "torch.save(R_v, './data/google-RoBERTa.train.review.pt')\n",
    "RR1 = torch.load('./data/google-RoBERTa.train.review.pt')\n",
    "\n",
    "print(RR1.shape)\n",
    "print(RR1[60008][0][560])"
   ]
  },
  {
   "cell_type": "code",
   "execution_count": null,
   "id": "d957782f",
   "metadata": {},
   "outputs": [],
   "source": [
    "#B\n",
    "train_1reB = train_data['bert_embedding']\n",
    "train_1reB = np.array(train_1reB).tolist()\n",
    "\n",
    "B_train = []\n",
    "\n",
    "for i in range(len(train_1reB)):\n",
    "    \n",
    "    bert_arr = np.array(train_1reB[i].replace('[','').replace(']','').split(','),dtype=np.float32) \n",
    "    b = np.array([bert_arr])\n",
    "    B_train.append(b)\n",
    "\n",
    "B_v = torch.tensor(B_train, dtype=torch.float32) \n",
    "torch.save(B_v, './data/google-BERT.train.review.pt')\n",
    "RR2 = torch.load('./data/google-BERT.train.review.pt')\n",
    "\n",
    "print(RR2.shape)\n",
    "print(RR2[60008][0][560])"
   ]
  },
  {
   "cell_type": "markdown",
   "id": "24e23b09",
   "metadata": {},
   "source": [
    "### train_2review RB"
   ]
  },
  {
   "cell_type": "code",
   "execution_count": null,
   "id": "337850aa",
   "metadata": {},
   "outputs": [],
   "source": [
    "train_2reRB = train_data[['roberta_embedding','bert_embedding']]\n",
    "train_2reRB = np.array(train_2reRB).tolist()\n",
    "\n",
    "RB_train = []\n",
    "\n",
    "for i in range(len(train_2reRB)):\n",
    "    roberta_arr = np.array(train_2reRB[i][0].replace('[','').replace(']','').split(','),dtype=np.float32)\n",
    "    bert_arr = np.array(train_2reRB[i][1].replace('[','').replace(']','').split(','),dtype=np.float32) \n",
    "    rb = np.array([roberta_arr,bert_arr])\n",
    "    RB_train.append(rb)\n",
    "\n",
    "RB = torch.tensor(RB_train, dtype=torch.float32) \n",
    "torch.save(RB, './data/google-RB.train.review.pt')\n",
    "XX1 = torch.load('./data/google-RB.train.review.pt')"
   ]
  },
  {
   "cell_type": "code",
   "execution_count": null,
   "id": "88c8fd00",
   "metadata": {
    "scrolled": true
   },
   "outputs": [],
   "source": [
    "print(XX1.shape)\n",
    "print(XX1[60008][0][560])\n",
    "print(XX1[60008][1][560])"
   ]
  },
  {
   "cell_type": "markdown",
   "id": "c0a1f6d1",
   "metadata": {},
   "source": [
    "### test_1review R/B"
   ]
  },
  {
   "cell_type": "markdown",
   "id": "c11f5918",
   "metadata": {},
   "source": [
    "抓test裡面所有出現的用戶，抓出train中該用戶其他所有的評論的tensor(BERT/RoBERTa; 1*768維)\n",
    "\n",
    "eg.將用戶1過去評論過的20個評論的BERT/RoBERTa tensor相加，再除以20，讓維度維持一致"
   ]
  },
  {
   "cell_type": "markdown",
   "id": "b70efdbe",
   "metadata": {},
   "source": [
    "#### RoBERTa"
   ]
  },
  {
   "cell_type": "code",
   "execution_count": 2,
   "id": "9e6194ac",
   "metadata": {},
   "outputs": [],
   "source": [
    "train_rv = torch.load('./data/google-RoBERTa.train.review.pt')\n",
    "train_userId = torch.load('./data/google.train.userId.pt') \n",
    "test_userId = torch.load('./data/google.test.userId.pt') "
   ]
  },
  {
   "cell_type": "code",
   "execution_count": null,
   "id": "9b1a6f47",
   "metadata": {},
   "outputs": [],
   "source": [
    "# user_history_review 單一用戶在train中第一次出現的評論\n",
    "# test_users_allreview 所有用戶在train中第一次出現的評論\n",
    "\n",
    "for index_i, i in enumerate(tqdm(test_userId)):\n",
    "    pointer_tensor=(train_userId==i).nonzero().view(-1) #同一個用戶出現的所有位置 >> tensor\n",
    "    # (train_userId==i).nonzero() >> 返回符合某一條件的index\n",
    "    \n",
    "    for index_j,j in enumerate(pointer_tensor):\n",
    "        if index_j==0:\n",
    "            user_history_review = train_rv[j]\n",
    "        else:\n",
    "            user_history_review = user_history_review + train_rv[j]\n",
    "    user_history_review = user_history_review / len(pointer_tensor)\n",
    "    \n",
    "    if index_i==0:\n",
    "        test_users_history_review = user_history_review\n",
    "    else:\n",
    "        test_users_history_review = torch.cat((test_users_history_review,user_history_review),0) \n",
    "\n",
    "test_users_history_review.shape\n",
    "torch.save(test_users_history_review, './data/google-RoBERTa.test.review.pt')"
   ]
  },
  {
   "cell_type": "markdown",
   "id": "89cd70be",
   "metadata": {},
   "source": [
    "#### BERT"
   ]
  },
  {
   "cell_type": "code",
   "execution_count": 3,
   "id": "62bb5e57",
   "metadata": {},
   "outputs": [],
   "source": [
    "train_rv_BERT = torch.load('./data/google-BERT.train.review.pt')"
   ]
  },
  {
   "cell_type": "code",
   "execution_count": 4,
   "id": "8b2dc505",
   "metadata": {},
   "outputs": [
    {
     "name": "stderr",
     "output_type": "stream",
     "text": [
      "100%|██████████████████████████████████████████████████████████████████████████| 111619/111619 [54:15<00:00, 34.29it/s]\n"
     ]
    }
   ],
   "source": [
    "# user_history_review_BERT 單一用戶在train中第一次出現的評論\n",
    "# test_users_history_review_BERT 所有用戶在train中第一次出現的評論\n",
    "\n",
    "for index_i, i in enumerate(tqdm(test_userId)):\n",
    "    pointer_tensor=(train_userId==i).nonzero().view(-1) #同一個用戶出現的所有位置 >> tensor\n",
    "    # (train_userId==i).nonzero() >> 返回符合某一條件的index\n",
    "    \n",
    "    for index_j,j in enumerate(pointer_tensor):\n",
    "        if index_j==0:\n",
    "            user_history_review_BERT = train_rv[j]\n",
    "        else:\n",
    "            user_history_review_BERT = user_history_review_BERT + train_rv[j]\n",
    "    user_history_review_BERT = user_history_review_BERT / len(pointer_tensor)\n",
    "    \n",
    "    if index_i==0:\n",
    "        test_users_history_review_BERT = user_history_review_BERT\n",
    "    else:\n",
    "        test_users_history_review_BERT = torch.cat((test_users_history_review_BERT,user_history_review_BERT),0) \n",
    " \n",
    "# 存檔\n",
    "torch.save(test_users_history_review_BERT, './data/google-BERT.test.review.pt')"
   ]
  },
  {
   "cell_type": "code",
   "execution_count": 5,
   "id": "3b867776",
   "metadata": {},
   "outputs": [
    {
     "data": {
      "text/plain": [
       "torch.Size([111619, 768])"
      ]
     },
     "execution_count": 5,
     "metadata": {},
     "output_type": "execute_result"
    }
   ],
   "source": [
    "test_users_history_review_BERT.shape"
   ]
  },
  {
   "cell_type": "markdown",
   "id": "80027d71",
   "metadata": {},
   "source": [
    "#### RB"
   ]
  },
  {
   "cell_type": "code",
   "execution_count": null,
   "id": "f5835d45",
   "metadata": {},
   "outputs": [],
   "source": [
    "RoBERTa_all = torch.load('./data/google-RoBERTa.test.review.pt')\n",
    "BERT_all = torch.load('./data/google-BERT.test.review.pt')\n",
    "\n",
    "RoBERTa_all=RoBERTa_all.reshape(111619, 1, 768)\n",
    "BERT_all=BERT_all.reshape(111619, 1, 768)\n",
    "test_users_allreview_RB = torch.cat((RoBERTa_all,BERT_all),1) \n",
    "torch.save(test_users_allreview_RB, './data/google-RB.test.review.pt')"
   ]
  },
  {
   "cell_type": "code",
   "execution_count": null,
   "id": "491ec5f8",
   "metadata": {},
   "outputs": [],
   "source": [
    "test_users_allreview_RB.shape"
   ]
  },
  {
   "cell_type": "markdown",
   "id": "858f68e8",
   "metadata": {},
   "source": [
    "### val_1review R/B"
   ]
  },
  {
   "cell_type": "code",
   "execution_count": null,
   "id": "77c169b7",
   "metadata": {},
   "outputs": [],
   "source": [
    "#R\n",
    "val_1reR = val_data['roberta_embedding']\n",
    "val_1reR = np.array(val_1reR).tolist()\n",
    "\n",
    "R_val = []\n",
    "\n",
    "for i in range(len(val_1reR)):\n",
    "    roberta_arr = np.array(val_1reR[i],dtype=np.float32)\n",
    "    \n",
    "    r = np.array([roberta_arr])\n",
    "    R_val.append(r)\n",
    "\n",
    "R_v = torch.tensor(R_val, dtype=torch.float32) \n",
    "torch.save(R_v, './data/google-RoBERTa.val.review.pt')\n",
    "ADA1 = torch.load('./data/google-RoBERTa.val.review.pt')\n",
    "\n",
    "print(ADA1.shape)\n",
    "print(ADA1[60008][0][560])"
   ]
  },
  {
   "cell_type": "code",
   "execution_count": null,
   "id": "f05f90b2",
   "metadata": {},
   "outputs": [],
   "source": [
    "#B\n",
    "val_1reB = val_data['bert_embedding']\n",
    "val_1reB = np.array(val_1reB).tolist()\n",
    "\n",
    "B_val = []\n",
    "\n",
    "for i in range(len(val_1reB)):\n",
    "    bert_arr = np.array(str(val_1reB[i]).replace('[','').replace(']','').split(','),dtype=np.float32)\n",
    "    b = np.array([bert_arr])\n",
    "    B_val.append(b)\n",
    "\n",
    "B_v = torch.tensor(B_val, dtype=torch.float32) \n",
    "torch.save(B_v, './data/google-BERT.val.review.pt')\n",
    "ADA3 = torch.load('./data/google-BERT.val.review.pt')\n",
    "\n",
    "print(ADA3.shape)\n",
    "print(ADA3[60008][0][560])"
   ]
  },
  {
   "cell_type": "markdown",
   "id": "f0fbec97",
   "metadata": {},
   "source": [
    "### val_2review RB"
   ]
  },
  {
   "cell_type": "code",
   "execution_count": null,
   "id": "7970c1e4",
   "metadata": {},
   "outputs": [],
   "source": [
    "val_2reRB = val_data[['roberta_embedding','bert_embedding']]\n",
    "val_2reRB = np.array(val_2reRB).tolist()\n",
    "\n",
    "RB_val = []\n",
    "\n",
    "for i in range(len(val_2reRB)):\n",
    "    roberta_arr = np.array(val_2reRB[i][0],dtype=np.float32)\n",
    "    bert_arr = np.array(val_2reRB[i][1].replace('[','').replace(']','').split(','),dtype=np.float32) \n",
    "    rb = np.array([roberta_arr,bert_arr])\n",
    "    RB_val.append(rb)\n",
    "\n",
    "RB_v = torch.tensor(RB_val, dtype=torch.float32) \n",
    "torch.save(RB_v, './data/google-RB.val.review.pt')\n",
    "VVV2 = torch.load('./data/google-RB.val.review.pt')\n",
    "\n",
    "print(VVV2.shape)\n",
    "print(VVV2[60008][0][560])\n",
    "print(VVV2[60008][1][560])"
   ]
  },
  {
   "cell_type": "markdown",
   "id": "76a7c875",
   "metadata": {},
   "source": [
    "### rating"
   ]
  },
  {
   "cell_type": "code",
   "execution_count": null,
   "id": "6506ac07",
   "metadata": {},
   "outputs": [],
   "source": [
    "# train\n",
    "rating_lst=[]\n",
    "with open('./data/google-app.train.rating', \"r\") as f:\n",
    "    for line in f:  \n",
    "        arr = line.split(\"\\t\") \n",
    "        rating_lst.append(int(arr[2]))\n",
    "\n",
    "y_train = rating_lst\n",
    "y_train = torch.tensor(y_train, dtype=torch.float32)\n",
    "y_train = torch.unsqueeze(y_train,dim=1) #要先升一個維度（神經元網絡才知道輸入的是k個1維的數據，而不是1個k維的數據）\n",
    "torch.save(y_train, './data/google-app.train.rating.pt')"
   ]
  },
  {
   "cell_type": "code",
   "execution_count": null,
   "id": "b426b3c3",
   "metadata": {},
   "outputs": [],
   "source": [
    "# test\n",
    "rating_lst=[]\n",
    "with open('./data/google-app.test.rating', \"r\") as f:\n",
    "    for line in f:  \n",
    "        arr = line.split(\"\\t\") \n",
    "        rating_lst.append(int(arr[2]))\n",
    "\n",
    "y_test = rating_lst\n",
    "y_test = torch.tensor(y_test, dtype=torch.float32)\n",
    "y_test = torch.unsqueeze(y_test,dim=1) #要先升一个維度（神經元網絡才知道輸入的是k個1維的數據，而不是1個k維的數據）\n",
    "torch.save(y_test, './data/google-app.test.rating.pt')"
   ]
  },
  {
   "cell_type": "code",
   "execution_count": null,
   "id": "cf9a26c8",
   "metadata": {},
   "outputs": [],
   "source": [
    "# val\n",
    "val_rating = val_data['rating']\n",
    "val_rating = np.array(val_rating).tolist()\n",
    "\n",
    "val_rating = torch.tensor(val_rating, dtype=torch.float32)\n",
    "val_rating = torch.unsqueeze(val_rating,dim=1) #要先升一个維度（神經元網絡才知道輸入的是k個1維的數據，而不是1個k維的數據）\n",
    "torch.save(val_rating, './data/google-app.val.rating.pt')"
   ]
  },
  {
   "cell_type": "code",
   "execution_count": null,
   "id": "c792adbf",
   "metadata": {},
   "outputs": [],
   "source": []
  }
 ],
 "metadata": {
  "kernelspec": {
   "display_name": "Python 3",
   "language": "python",
   "name": "python3"
  },
  "language_info": {
   "codemirror_mode": {
    "name": "ipython",
    "version": 3
   },
   "file_extension": ".py",
   "mimetype": "text/x-python",
   "name": "python",
   "nbconvert_exporter": "python",
   "pygments_lexer": "ipython3",
   "version": "3.6.13"
  }
 },
 "nbformat": 4,
 "nbformat_minor": 5
}
