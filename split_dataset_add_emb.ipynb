{
 "cells": [
  {
   "cell_type": "markdown",
   "id": "4f03ae54",
   "metadata": {},
   "source": [
    "### test_data (pickle檔) 111619 rows × 6 columns\n",
    "欄位 review_index / userId / appId / roberta_embedding / bert_embedding / rating\n",
    "\n",
    "### train_data_dd.csv 904120 rows × 6 columns\n",
    "欄位 review_index / userId / appId / roberta_embedding / bert_embedding / rating\n",
    "\n",
    "### val_data (pickle檔) 100457 rows × 6 columns\n",
    "欄位 review_index / userId / appId / roberta_embedding / bert_embedding / rating"
   ]
  },
  {
   "cell_type": "markdown",
   "id": "6ad440bc",
   "metadata": {},
   "source": [
    "test_index.txt  欄位：review_index、userId、appId ； Shape：111619 rows × 3 columns\n",
    "\n",
    "train_index.txt  欄位：review_index、userId、appId； Shape：904120 rows × 3 columns 不含val\n",
    "\n",
    "val_index.txt  欄位：review_index、userId、appId； Shape：100457 rows × 3 columns"
   ]
  },
  {
   "cell_type": "code",
   "execution_count": 1,
   "id": "feb34128",
   "metadata": {},
   "outputs": [],
   "source": [
    "import pickle\n",
    "import pandas as pd\n",
    "import numpy as np\n",
    "import time\n",
    "import os\n",
    "import re\n",
    "from tqdm.notebook import tqdm\n",
    "import csv\n",
    "from pandas.core.frame import DataFrame"
   ]
  },
  {
   "cell_type": "markdown",
   "id": "6c364384",
   "metadata": {},
   "source": [
    "### 讀入完整 rating"
   ]
  },
  {
   "cell_type": "code",
   "execution_count": 2,
   "id": "5704d8c2",
   "metadata": {},
   "outputs": [
    {
     "data": {
      "text/html": [
       "<div>\n",
       "<style scoped>\n",
       "    .dataframe tbody tr th:only-of-type {\n",
       "        vertical-align: middle;\n",
       "    }\n",
       "\n",
       "    .dataframe tbody tr th {\n",
       "        vertical-align: top;\n",
       "    }\n",
       "\n",
       "    .dataframe thead th {\n",
       "        text-align: right;\n",
       "    }\n",
       "</style>\n",
       "<table border=\"1\" class=\"dataframe\">\n",
       "  <thead>\n",
       "    <tr style=\"text-align: right;\">\n",
       "      <th></th>\n",
       "      <th>Unnamed: 0</th>\n",
       "      <th>review_index</th>\n",
       "      <th>userId</th>\n",
       "      <th>appId</th>\n",
       "      <th>rating</th>\n",
       "    </tr>\n",
       "  </thead>\n",
       "  <tbody>\n",
       "    <tr>\n",
       "      <th>0</th>\n",
       "      <td>0</td>\n",
       "      <td>0</td>\n",
       "      <td>0</td>\n",
       "      <td>5</td>\n",
       "      <td>1</td>\n",
       "    </tr>\n",
       "    <tr>\n",
       "      <th>1</th>\n",
       "      <td>1</td>\n",
       "      <td>1</td>\n",
       "      <td>1</td>\n",
       "      <td>5</td>\n",
       "      <td>3</td>\n",
       "    </tr>\n",
       "    <tr>\n",
       "      <th>2</th>\n",
       "      <td>2</td>\n",
       "      <td>2</td>\n",
       "      <td>2</td>\n",
       "      <td>5</td>\n",
       "      <td>5</td>\n",
       "    </tr>\n",
       "    <tr>\n",
       "      <th>3</th>\n",
       "      <td>3</td>\n",
       "      <td>3</td>\n",
       "      <td>3</td>\n",
       "      <td>5</td>\n",
       "      <td>5</td>\n",
       "    </tr>\n",
       "    <tr>\n",
       "      <th>4</th>\n",
       "      <td>4</td>\n",
       "      <td>4</td>\n",
       "      <td>4</td>\n",
       "      <td>5</td>\n",
       "      <td>5</td>\n",
       "    </tr>\n",
       "  </tbody>\n",
       "</table>\n",
       "</div>"
      ],
      "text/plain": [
       "   Unnamed: 0  review_index  userId  appId  rating\n",
       "0           0             0       0      5       1\n",
       "1           1             1       1      5       3\n",
       "2           2             2       2      5       5\n",
       "3           3             3       3      5       5\n",
       "4           4             4       4      5       5"
      ]
     },
     "execution_count": 2,
     "metadata": {},
     "output_type": "execute_result"
    }
   ],
   "source": [
    "# ALL_ORIGIN_DATA_rating.csv 僅:index/評分/appID/userID\n",
    "\n",
    "ALL_ORIGIN_DATA_rating = pd.read_csv('./Data/ALL_ORIGIN_DATA_rating.csv')\n",
    "ALL_ORIGIN_DATA_rating.head()"
   ]
  },
  {
   "cell_type": "markdown",
   "id": "58af8a62",
   "metadata": {},
   "source": [
    "### 讀入完整roberta_emb"
   ]
  },
  {
   "cell_type": "code",
   "execution_count": 3,
   "id": "45d025bf",
   "metadata": {},
   "outputs": [],
   "source": [
    "#讀入pickle\n",
    "df_roberta = open('./Data/ALL_ORIGIN_DATA_review_roberta_0toend_embedding','rb')#注意此处是rb\n",
    "roberta=pickle.load(df_roberta) # 讀入用rb\n",
    "df_roberta.close() "
   ]
  },
  {
   "cell_type": "code",
   "execution_count": 4,
   "id": "82eb952d",
   "metadata": {
    "scrolled": true
   },
   "outputs": [
    {
     "data": {
      "text/html": [
       "<div>\n",
       "<style scoped>\n",
       "    .dataframe tbody tr th:only-of-type {\n",
       "        vertical-align: middle;\n",
       "    }\n",
       "\n",
       "    .dataframe tbody tr th {\n",
       "        vertical-align: top;\n",
       "    }\n",
       "\n",
       "    .dataframe thead th {\n",
       "        text-align: right;\n",
       "    }\n",
       "</style>\n",
       "<table border=\"1\" class=\"dataframe\">\n",
       "  <thead>\n",
       "    <tr style=\"text-align: right;\">\n",
       "      <th></th>\n",
       "      <th>roberta_embedding</th>\n",
       "      <th>Unnamed: 0</th>\n",
       "    </tr>\n",
       "  </thead>\n",
       "  <tbody>\n",
       "    <tr>\n",
       "      <th>0</th>\n",
       "      <td>[-0.05433040112257004, 0.04897385835647583, -0...</td>\n",
       "      <td>NaN</td>\n",
       "    </tr>\n",
       "    <tr>\n",
       "      <th>1</th>\n",
       "      <td>[-0.030177436769008636, 0.04714367538690567, -...</td>\n",
       "      <td>NaN</td>\n",
       "    </tr>\n",
       "    <tr>\n",
       "      <th>2</th>\n",
       "      <td>[-0.059469737112522125, 0.0544145405292511, -0...</td>\n",
       "      <td>NaN</td>\n",
       "    </tr>\n",
       "    <tr>\n",
       "      <th>3</th>\n",
       "      <td>[-0.048043347895145416, 0.009005382657051086, ...</td>\n",
       "      <td>NaN</td>\n",
       "    </tr>\n",
       "    <tr>\n",
       "      <th>4</th>\n",
       "      <td>[-0.027240321040153503, 0.051726289093494415, ...</td>\n",
       "      <td>NaN</td>\n",
       "    </tr>\n",
       "  </tbody>\n",
       "</table>\n",
       "</div>"
      ],
      "text/plain": [
       "                                   roberta_embedding  Unnamed: 0\n",
       "0  [-0.05433040112257004, 0.04897385835647583, -0...         NaN\n",
       "1  [-0.030177436769008636, 0.04714367538690567, -...         NaN\n",
       "2  [-0.059469737112522125, 0.0544145405292511, -0...         NaN\n",
       "3  [-0.048043347895145416, 0.009005382657051086, ...         NaN\n",
       "4  [-0.027240321040153503, 0.051726289093494415, ...         NaN"
      ]
     },
     "execution_count": 4,
     "metadata": {},
     "output_type": "execute_result"
    }
   ],
   "source": [
    "roberta.head()"
   ]
  },
  {
   "cell_type": "markdown",
   "id": "fc49c6b1",
   "metadata": {},
   "source": [
    "### 讀入完整bert_emb"
   ]
  },
  {
   "cell_type": "code",
   "execution_count": 13,
   "id": "c8fe5b32",
   "metadata": {},
   "outputs": [],
   "source": [
    "ALL_ORIGIN_DATA_review_bert = pd.read_csv('./Data/ALL_ORIGIN_DATA_review_bert.csv')"
   ]
  },
  {
   "cell_type": "markdown",
   "id": "bad3ad2a",
   "metadata": {},
   "source": [
    "### 切出test set:"
   ]
  },
  {
   "cell_type": "code",
   "execution_count": 5,
   "id": "c7b9b611",
   "metadata": {},
   "outputs": [
    {
     "name": "stdout",
     "output_type": "stream",
     "text": [
      "   review_index  userId  appId\n",
      "0        556989  104298      5\n",
      "1        276457   24488      5\n",
      "2        827705  100603      5\n",
      "3        292180   56006      5\n",
      "4        794402  109560      5 \n",
      " \n",
      "\n"
     ]
    }
   ],
   "source": [
    "test_index = pd.read_csv('./Data/test_index.txt')\n",
    "print(test_index[:5],'\\n','\\n')"
   ]
  },
  {
   "cell_type": "code",
   "execution_count": 6,
   "id": "ed064a49",
   "metadata": {},
   "outputs": [
    {
     "data": {
      "text/plain": [
       "111619"
      ]
     },
     "execution_count": 6,
     "metadata": {},
     "output_type": "execute_result"
    }
   ],
   "source": [
    "len(test_index)"
   ]
  },
  {
   "cell_type": "markdown",
   "id": "7272ac38",
   "metadata": {},
   "source": [
    "###  "
   ]
  },
  {
   "cell_type": "code",
   "execution_count": 14,
   "id": "951b2309",
   "metadata": {},
   "outputs": [
    {
     "data": {
      "text/plain": [
       "str"
      ]
     },
     "execution_count": 14,
     "metadata": {},
     "output_type": "execute_result"
    }
   ],
   "source": [
    "type(ALL_ORIGIN_DATA_review_bert['bert_embedding'][0])"
   ]
  },
  {
   "cell_type": "code",
   "execution_count": 7,
   "id": "e62cabd3",
   "metadata": {},
   "outputs": [
    {
     "data": {
      "text/plain": [
       "list"
      ]
     },
     "execution_count": 7,
     "metadata": {},
     "output_type": "execute_result"
    }
   ],
   "source": [
    "type(roberta['roberta_embedding'][0]) #list"
   ]
  },
  {
   "cell_type": "code",
   "execution_count": 8,
   "id": "57f20a73",
   "metadata": {},
   "outputs": [
    {
     "data": {
      "application/vnd.jupyter.widget-view+json": {
       "model_id": "8d3095f053d441e3a0ede1035c1ba36b",
       "version_major": 2,
       "version_minor": 0
      },
      "text/plain": [
       "0it [00:00, ?it/s]"
      ]
     },
     "metadata": {},
     "output_type": "display_data"
    }
   ],
   "source": [
    "# 找出所有test_index 對應的 rating\n",
    "rating_lst=[] #準備存進去 text_index的 xlnet_emb lst\n",
    "for count,i in tqdm(enumerate(test_index['review_index'])):\n",
    "    rating_lst.append(ALL_ORIGIN_DATA_rating['rating'][i])"
   ]
  },
  {
   "cell_type": "code",
   "execution_count": 9,
   "id": "3b555a7b",
   "metadata": {},
   "outputs": [
    {
     "data": {
      "text/plain": [
       "list"
      ]
     },
     "execution_count": 9,
     "metadata": {},
     "output_type": "execute_result"
    }
   ],
   "source": [
    "type(rating_lst) #list"
   ]
  },
  {
   "cell_type": "code",
   "execution_count": 15,
   "id": "314f0063",
   "metadata": {
    "scrolled": true
   },
   "outputs": [
    {
     "data": {
      "application/vnd.jupyter.widget-view+json": {
       "model_id": "c11405b5794146daa1919489e77481e3",
       "version_major": 2,
       "version_minor": 0
      },
      "text/plain": [
       "0it [00:00, ?it/s]"
      ]
     },
     "metadata": {},
     "output_type": "display_data"
    }
   ],
   "source": [
    "# 找出所有test_index 對應的 bert_embedding\n",
    "bert_emb_lst=[] #準備存進去 text_index的 bert_emb lst\n",
    "for count,i in tqdm(enumerate(test_index['review_index'])):\n",
    "    bert_emb_lst.append(ALL_ORIGIN_DATA_review_bert['bert_embedding'][i])"
   ]
  },
  {
   "cell_type": "code",
   "execution_count": 16,
   "id": "6052bbef",
   "metadata": {},
   "outputs": [
    {
     "data": {
      "text/plain": [
       "16258"
      ]
     },
     "execution_count": 16,
     "metadata": {},
     "output_type": "execute_result"
    }
   ],
   "source": [
    "len(bert_emb_lst[0])"
   ]
  },
  {
   "cell_type": "code",
   "execution_count": 10,
   "id": "c8a24be5",
   "metadata": {},
   "outputs": [
    {
     "data": {
      "application/vnd.jupyter.widget-view+json": {
       "model_id": "dfbbe47976d34fd28449de211dc40c13",
       "version_major": 2,
       "version_minor": 0
      },
      "text/plain": [
       "0it [00:00, ?it/s]"
      ]
     },
     "metadata": {},
     "output_type": "display_data"
    }
   ],
   "source": [
    "# 找出所有test_index 對應的 roberta_embedding\n",
    "ro_emb_lst=[] #準備存進去 text_index的 ro_emb lst\n",
    "for count,i in tqdm(enumerate(test_index['review_index'])):\n",
    "    ro_emb_lst.append(roberta['roberta_embedding'][i])"
   ]
  },
  {
   "cell_type": "code",
   "execution_count": 11,
   "id": "69cca24d",
   "metadata": {},
   "outputs": [
    {
     "data": {
      "text/plain": [
       "111619"
      ]
     },
     "execution_count": 11,
     "metadata": {},
     "output_type": "execute_result"
    }
   ],
   "source": [
    "len(ro_emb_lst)"
   ]
  },
  {
   "cell_type": "code",
   "execution_count": 12,
   "id": "612ed2cb",
   "metadata": {},
   "outputs": [
    {
     "data": {
      "text/plain": [
       "111619"
      ]
     },
     "execution_count": 12,
     "metadata": {},
     "output_type": "execute_result"
    }
   ],
   "source": [
    "len(rating_lst)"
   ]
  },
  {
   "cell_type": "code",
   "execution_count": 17,
   "id": "79ff6cfd",
   "metadata": {},
   "outputs": [
    {
     "data": {
      "text/html": [
       "<div>\n",
       "<style scoped>\n",
       "    .dataframe tbody tr th:only-of-type {\n",
       "        vertical-align: middle;\n",
       "    }\n",
       "\n",
       "    .dataframe tbody tr th {\n",
       "        vertical-align: top;\n",
       "    }\n",
       "\n",
       "    .dataframe thead th {\n",
       "        text-align: right;\n",
       "    }\n",
       "</style>\n",
       "<table border=\"1\" class=\"dataframe\">\n",
       "  <thead>\n",
       "    <tr style=\"text-align: right;\">\n",
       "      <th></th>\n",
       "      <th>review_index</th>\n",
       "      <th>userId</th>\n",
       "      <th>appId</th>\n",
       "      <th>roberta_embedding</th>\n",
       "      <th>bert_embedding</th>\n",
       "      <th>rating</th>\n",
       "    </tr>\n",
       "  </thead>\n",
       "  <tbody>\n",
       "    <tr>\n",
       "      <th>0</th>\n",
       "      <td>556989</td>\n",
       "      <td>104298</td>\n",
       "      <td>5</td>\n",
       "      <td>[-0.06583990901708603, 0.07123593986034393, -0...</td>\n",
       "      <td>[0.06709515303373337, -0.06524760276079178, 0....</td>\n",
       "      <td>5</td>\n",
       "    </tr>\n",
       "    <tr>\n",
       "      <th>1</th>\n",
       "      <td>276457</td>\n",
       "      <td>24488</td>\n",
       "      <td>5</td>\n",
       "      <td>[-0.04401491582393646, 0.06369167566299438, -0...</td>\n",
       "      <td>[0.018158985301852226, 0.2492251843214035, 0.1...</td>\n",
       "      <td>5</td>\n",
       "    </tr>\n",
       "    <tr>\n",
       "      <th>2</th>\n",
       "      <td>827705</td>\n",
       "      <td>100603</td>\n",
       "      <td>5</td>\n",
       "      <td>[-0.020159393548965454, 0.08451575040817261, -...</td>\n",
       "      <td>[-0.12789605557918549, -0.011563075706362724, ...</td>\n",
       "      <td>2</td>\n",
       "    </tr>\n",
       "    <tr>\n",
       "      <th>3</th>\n",
       "      <td>292180</td>\n",
       "      <td>56006</td>\n",
       "      <td>5</td>\n",
       "      <td>[-0.03614839166402817, 0.08437591791152954, -0...</td>\n",
       "      <td>[-0.13007041811943054, -0.20364640653133392, 0...</td>\n",
       "      <td>5</td>\n",
       "    </tr>\n",
       "    <tr>\n",
       "      <th>4</th>\n",
       "      <td>794402</td>\n",
       "      <td>109560</td>\n",
       "      <td>5</td>\n",
       "      <td>[-0.02333754301071167, 0.07442940771579742, -0...</td>\n",
       "      <td>[0.03204464539885521, 0.034370727837085724, 0....</td>\n",
       "      <td>2</td>\n",
       "    </tr>\n",
       "    <tr>\n",
       "      <th>...</th>\n",
       "      <td>...</td>\n",
       "      <td>...</td>\n",
       "      <td>...</td>\n",
       "      <td>...</td>\n",
       "      <td>...</td>\n",
       "      <td>...</td>\n",
       "    </tr>\n",
       "    <tr>\n",
       "      <th>111614</th>\n",
       "      <td>762316</td>\n",
       "      <td>108249</td>\n",
       "      <td>1110</td>\n",
       "      <td>[-0.027890361845493317, 0.08228614181280136, -...</td>\n",
       "      <td>[-0.045029934495687485, -0.29239487648010254, ...</td>\n",
       "      <td>3</td>\n",
       "    </tr>\n",
       "    <tr>\n",
       "      <th>111615</th>\n",
       "      <td>3507</td>\n",
       "      <td>3332</td>\n",
       "      <td>1110</td>\n",
       "      <td>[-0.05888579040765762, 0.07512751966714859, 0....</td>\n",
       "      <td>[-0.04986397549510002, -0.5851753354072571, 0....</td>\n",
       "      <td>4</td>\n",
       "    </tr>\n",
       "    <tr>\n",
       "      <th>111616</th>\n",
       "      <td>789357</td>\n",
       "      <td>115038</td>\n",
       "      <td>1110</td>\n",
       "      <td>[-0.0563468262553215, 0.031397443264722824, 0....</td>\n",
       "      <td>[0.21711109578609467, -0.235995352268219, 1.07...</td>\n",
       "      <td>5</td>\n",
       "    </tr>\n",
       "    <tr>\n",
       "      <th>111617</th>\n",
       "      <td>112901</td>\n",
       "      <td>74020</td>\n",
       "      <td>1110</td>\n",
       "      <td>[-0.03713545203208923, 0.0828799456357956, -0....</td>\n",
       "      <td>[0.5416073203086853, 0.07227365672588348, 0.44...</td>\n",
       "      <td>5</td>\n",
       "    </tr>\n",
       "    <tr>\n",
       "      <th>111618</th>\n",
       "      <td>394800</td>\n",
       "      <td>52738</td>\n",
       "      <td>1110</td>\n",
       "      <td>[-0.04532401263713837, 0.021387171000242233, -...</td>\n",
       "      <td>[0.3675825595855713, -0.17026272416114807, 0.3...</td>\n",
       "      <td>1</td>\n",
       "    </tr>\n",
       "  </tbody>\n",
       "</table>\n",
       "<p>111619 rows × 6 columns</p>\n",
       "</div>"
      ],
      "text/plain": [
       "        review_index  userId  appId  \\\n",
       "0             556989  104298      5   \n",
       "1             276457   24488      5   \n",
       "2             827705  100603      5   \n",
       "3             292180   56006      5   \n",
       "4             794402  109560      5   \n",
       "...              ...     ...    ...   \n",
       "111614        762316  108249   1110   \n",
       "111615          3507    3332   1110   \n",
       "111616        789357  115038   1110   \n",
       "111617        112901   74020   1110   \n",
       "111618        394800   52738   1110   \n",
       "\n",
       "                                        roberta_embedding  \\\n",
       "0       [-0.06583990901708603, 0.07123593986034393, -0...   \n",
       "1       [-0.04401491582393646, 0.06369167566299438, -0...   \n",
       "2       [-0.020159393548965454, 0.08451575040817261, -...   \n",
       "3       [-0.03614839166402817, 0.08437591791152954, -0...   \n",
       "4       [-0.02333754301071167, 0.07442940771579742, -0...   \n",
       "...                                                   ...   \n",
       "111614  [-0.027890361845493317, 0.08228614181280136, -...   \n",
       "111615  [-0.05888579040765762, 0.07512751966714859, 0....   \n",
       "111616  [-0.0563468262553215, 0.031397443264722824, 0....   \n",
       "111617  [-0.03713545203208923, 0.0828799456357956, -0....   \n",
       "111618  [-0.04532401263713837, 0.021387171000242233, -...   \n",
       "\n",
       "                                           bert_embedding  rating  \n",
       "0       [0.06709515303373337, -0.06524760276079178, 0....       5  \n",
       "1       [0.018158985301852226, 0.2492251843214035, 0.1...       5  \n",
       "2       [-0.12789605557918549, -0.011563075706362724, ...       2  \n",
       "3       [-0.13007041811943054, -0.20364640653133392, 0...       5  \n",
       "4       [0.03204464539885521, 0.034370727837085724, 0....       2  \n",
       "...                                                   ...     ...  \n",
       "111614  [-0.045029934495687485, -0.29239487648010254, ...       3  \n",
       "111615  [-0.04986397549510002, -0.5851753354072571, 0....       4  \n",
       "111616  [0.21711109578609467, -0.235995352268219, 1.07...       5  \n",
       "111617  [0.5416073203086853, 0.07227365672588348, 0.44...       5  \n",
       "111618  [0.3675825595855713, -0.17026272416114807, 0.3...       1  \n",
       "\n",
       "[111619 rows x 6 columns]"
      ]
     },
     "execution_count": 17,
     "metadata": {},
     "output_type": "execute_result"
    }
   ],
   "source": [
    "dic_test ={'review_index' : list(test_index['review_index']),\"userId\" : list(test_index['userId']),\"appId\":list(test_index['appId']),\"roberta_embedding\" : ro_emb_lst,\"bert_embedding\" : bert_emb_lst,\"rating\":rating_lst }\n",
    "df_test = DataFrame(dic_test)\n",
    "df_test"
   ]
  },
  {
   "cell_type": "code",
   "execution_count": 18,
   "id": "1cbbbde5",
   "metadata": {},
   "outputs": [],
   "source": [
    "import pickle\n",
    "with open('./Data/test_data', 'wb') as f:\n",
    "    pickle.dump(df_test, f)"
   ]
  },
  {
   "cell_type": "markdown",
   "id": "fc0429f9",
   "metadata": {},
   "source": [
    "### 切出train set:"
   ]
  },
  {
   "cell_type": "code",
   "execution_count": 22,
   "id": "985aa314",
   "metadata": {},
   "outputs": [
    {
     "name": "stdout",
     "output_type": "stream",
     "text": [
      "   review_index  userId  appId\n",
      "0             0       0      5\n",
      "1             1       1      5\n",
      "2             2       2      5\n",
      "3             3       3      5\n",
      "4             4       4      5 \n",
      " \n",
      "\n"
     ]
    }
   ],
   "source": [
    "train_index = pd.read_csv('./Data/train_index.txt')\n",
    "print(train_index[:5],'\\n','\\n')"
   ]
  },
  {
   "cell_type": "code",
   "execution_count": 23,
   "id": "4f9dadb5",
   "metadata": {},
   "outputs": [
    {
     "data": {
      "text/plain": [
       "904120"
      ]
     },
     "execution_count": 23,
     "metadata": {},
     "output_type": "execute_result"
    }
   ],
   "source": [
    "len(train_index)"
   ]
  },
  {
   "cell_type": "code",
   "execution_count": 24,
   "id": "d6163551",
   "metadata": {},
   "outputs": [
    {
     "data": {
      "application/vnd.jupyter.widget-view+json": {
       "model_id": "434fe4d6f51944289c8b81acf11e1e0c",
       "version_major": 2,
       "version_minor": 0
      },
      "text/plain": [
       "0it [00:00, ?it/s]"
      ]
     },
     "metadata": {},
     "output_type": "display_data"
    }
   ],
   "source": [
    "# 找出所有 train_index 對應的 rating\n",
    "rating_lst=[] #準備存進去 train_index 的 rating\n",
    "for count,i in tqdm(enumerate(train_index['review_index'])):\n",
    "    rating_lst.append(ALL_ORIGIN_DATA_rating['rating'][i])"
   ]
  },
  {
   "cell_type": "code",
   "execution_count": 25,
   "id": "bcf54e6f",
   "metadata": {},
   "outputs": [
    {
     "data": {
      "application/vnd.jupyter.widget-view+json": {
       "model_id": "49388aea780140aea7ecac8bb57ea885",
       "version_major": 2,
       "version_minor": 0
      },
      "text/plain": [
       "0it [00:00, ?it/s]"
      ]
     },
     "metadata": {},
     "output_type": "display_data"
    }
   ],
   "source": [
    "# 找出所有 train_index 對應的 bert_embedding\n",
    "bert_emb_lst=[] #準備存進去 train_index 的 bert_emb lst\n",
    "for count,i in tqdm(enumerate(train_index['review_index'])):\n",
    "    bert_emb_lst.append(ALL_ORIGIN_DATA_review_bert['bert_embedding'][i])"
   ]
  },
  {
   "cell_type": "code",
   "execution_count": 26,
   "id": "6cdb59a2",
   "metadata": {},
   "outputs": [
    {
     "data": {
      "application/vnd.jupyter.widget-view+json": {
       "model_id": "799916c32cd6486285c19b069b147d90",
       "version_major": 2,
       "version_minor": 0
      },
      "text/plain": [
       "0it [00:00, ?it/s]"
      ]
     },
     "metadata": {},
     "output_type": "display_data"
    }
   ],
   "source": [
    "# 找出所有 train_index 對應的 roberta_embedding\n",
    "ro_emb_lst=[] #準備存進去 train_index 的 ro_emb lst\n",
    "for count,i in tqdm(enumerate(train_index['review_index'])):\n",
    "    ro_emb_lst.append(roberta['roberta_embedding'][i])"
   ]
  },
  {
   "cell_type": "code",
   "execution_count": 27,
   "id": "f3d85f31",
   "metadata": {},
   "outputs": [
    {
     "data": {
      "text/html": [
       "<div>\n",
       "<style scoped>\n",
       "    .dataframe tbody tr th:only-of-type {\n",
       "        vertical-align: middle;\n",
       "    }\n",
       "\n",
       "    .dataframe tbody tr th {\n",
       "        vertical-align: top;\n",
       "    }\n",
       "\n",
       "    .dataframe thead th {\n",
       "        text-align: right;\n",
       "    }\n",
       "</style>\n",
       "<table border=\"1\" class=\"dataframe\">\n",
       "  <thead>\n",
       "    <tr style=\"text-align: right;\">\n",
       "      <th></th>\n",
       "      <th>review_index</th>\n",
       "      <th>userId</th>\n",
       "      <th>appId</th>\n",
       "      <th>roberta_embedding</th>\n",
       "      <th>bert_embedding</th>\n",
       "      <th>rating</th>\n",
       "    </tr>\n",
       "  </thead>\n",
       "  <tbody>\n",
       "    <tr>\n",
       "      <th>0</th>\n",
       "      <td>0</td>\n",
       "      <td>0</td>\n",
       "      <td>5</td>\n",
       "      <td>[-0.05433040112257004, 0.04897385835647583, -0...</td>\n",
       "      <td>[-0.10288368165493011, -0.019872549921274185, ...</td>\n",
       "      <td>1</td>\n",
       "    </tr>\n",
       "    <tr>\n",
       "      <th>1</th>\n",
       "      <td>1</td>\n",
       "      <td>1</td>\n",
       "      <td>5</td>\n",
       "      <td>[-0.030177436769008636, 0.04714367538690567, -...</td>\n",
       "      <td>[0.006627775263041258, -0.5326172709465027, 0....</td>\n",
       "      <td>3</td>\n",
       "    </tr>\n",
       "    <tr>\n",
       "      <th>2</th>\n",
       "      <td>2</td>\n",
       "      <td>2</td>\n",
       "      <td>5</td>\n",
       "      <td>[-0.059469737112522125, 0.0544145405292511, -0...</td>\n",
       "      <td>[0.023161377757787704, -0.36857113242149353, 0...</td>\n",
       "      <td>5</td>\n",
       "    </tr>\n",
       "    <tr>\n",
       "      <th>3</th>\n",
       "      <td>3</td>\n",
       "      <td>3</td>\n",
       "      <td>5</td>\n",
       "      <td>[-0.048043347895145416, 0.009005382657051086, ...</td>\n",
       "      <td>[0.028108451515436172, -0.30558472871780396, 0...</td>\n",
       "      <td>5</td>\n",
       "    </tr>\n",
       "    <tr>\n",
       "      <th>4</th>\n",
       "      <td>4</td>\n",
       "      <td>4</td>\n",
       "      <td>5</td>\n",
       "      <td>[-0.027240321040153503, 0.051726289093494415, ...</td>\n",
       "      <td>[0.5087504386901855, 0.16101887822151184, 0.62...</td>\n",
       "      <td>5</td>\n",
       "    </tr>\n",
       "  </tbody>\n",
       "</table>\n",
       "</div>"
      ],
      "text/plain": [
       "   review_index  userId  appId  \\\n",
       "0             0       0      5   \n",
       "1             1       1      5   \n",
       "2             2       2      5   \n",
       "3             3       3      5   \n",
       "4             4       4      5   \n",
       "\n",
       "                                   roberta_embedding  \\\n",
       "0  [-0.05433040112257004, 0.04897385835647583, -0...   \n",
       "1  [-0.030177436769008636, 0.04714367538690567, -...   \n",
       "2  [-0.059469737112522125, 0.0544145405292511, -0...   \n",
       "3  [-0.048043347895145416, 0.009005382657051086, ...   \n",
       "4  [-0.027240321040153503, 0.051726289093494415, ...   \n",
       "\n",
       "                                      bert_embedding  rating  \n",
       "0  [-0.10288368165493011, -0.019872549921274185, ...       1  \n",
       "1  [0.006627775263041258, -0.5326172709465027, 0....       3  \n",
       "2  [0.023161377757787704, -0.36857113242149353, 0...       5  \n",
       "3  [0.028108451515436172, -0.30558472871780396, 0...       5  \n",
       "4  [0.5087504386901855, 0.16101887822151184, 0.62...       5  "
      ]
     },
     "execution_count": 27,
     "metadata": {},
     "output_type": "execute_result"
    }
   ],
   "source": [
    "dic_train ={'review_index' : list(train_index['review_index']),\"userId\" : list(train_index['userId']),\"appId\":list(train_index['appId']),\"roberta_embedding\" : ro_emb_lst,\"bert_embedding\" : bert_emb_lst,\"rating\": rating_lst }\n",
    "df_train = DataFrame(dic_train)\n",
    "df_train.head()"
   ]
  },
  {
   "cell_type": "code",
   "execution_count": 28,
   "id": "ec34e76c",
   "metadata": {},
   "outputs": [],
   "source": [
    "from dask import dataframe as dd"
   ]
  },
  {
   "cell_type": "code",
   "execution_count": 29,
   "id": "bf604b35",
   "metadata": {},
   "outputs": [],
   "source": [
    "dd_train = dd.from_pandas(df_train, chunksize=10000)"
   ]
  },
  {
   "cell_type": "code",
   "execution_count": 30,
   "id": "c7b591ce",
   "metadata": {},
   "outputs": [
    {
     "data": {
      "text/plain": [
       "['D:/pytorch/GoogleGame_RecommenderSystem-main/Data/train_data_dd.csv\\\\00.part',\n",
       " 'D:/pytorch/GoogleGame_RecommenderSystem-main/Data/train_data_dd.csv\\\\01.part',\n",
       " 'D:/pytorch/GoogleGame_RecommenderSystem-main/Data/train_data_dd.csv\\\\02.part',\n",
       " 'D:/pytorch/GoogleGame_RecommenderSystem-main/Data/train_data_dd.csv\\\\03.part',\n",
       " 'D:/pytorch/GoogleGame_RecommenderSystem-main/Data/train_data_dd.csv\\\\04.part',\n",
       " 'D:/pytorch/GoogleGame_RecommenderSystem-main/Data/train_data_dd.csv\\\\05.part',\n",
       " 'D:/pytorch/GoogleGame_RecommenderSystem-main/Data/train_data_dd.csv\\\\06.part',\n",
       " 'D:/pytorch/GoogleGame_RecommenderSystem-main/Data/train_data_dd.csv\\\\07.part',\n",
       " 'D:/pytorch/GoogleGame_RecommenderSystem-main/Data/train_data_dd.csv\\\\08.part',\n",
       " 'D:/pytorch/GoogleGame_RecommenderSystem-main/Data/train_data_dd.csv\\\\09.part',\n",
       " 'D:/pytorch/GoogleGame_RecommenderSystem-main/Data/train_data_dd.csv\\\\10.part',\n",
       " 'D:/pytorch/GoogleGame_RecommenderSystem-main/Data/train_data_dd.csv\\\\11.part',\n",
       " 'D:/pytorch/GoogleGame_RecommenderSystem-main/Data/train_data_dd.csv\\\\12.part',\n",
       " 'D:/pytorch/GoogleGame_RecommenderSystem-main/Data/train_data_dd.csv\\\\13.part',\n",
       " 'D:/pytorch/GoogleGame_RecommenderSystem-main/Data/train_data_dd.csv\\\\14.part',\n",
       " 'D:/pytorch/GoogleGame_RecommenderSystem-main/Data/train_data_dd.csv\\\\15.part',\n",
       " 'D:/pytorch/GoogleGame_RecommenderSystem-main/Data/train_data_dd.csv\\\\16.part',\n",
       " 'D:/pytorch/GoogleGame_RecommenderSystem-main/Data/train_data_dd.csv\\\\17.part',\n",
       " 'D:/pytorch/GoogleGame_RecommenderSystem-main/Data/train_data_dd.csv\\\\18.part',\n",
       " 'D:/pytorch/GoogleGame_RecommenderSystem-main/Data/train_data_dd.csv\\\\19.part',\n",
       " 'D:/pytorch/GoogleGame_RecommenderSystem-main/Data/train_data_dd.csv\\\\20.part',\n",
       " 'D:/pytorch/GoogleGame_RecommenderSystem-main/Data/train_data_dd.csv\\\\21.part',\n",
       " 'D:/pytorch/GoogleGame_RecommenderSystem-main/Data/train_data_dd.csv\\\\22.part',\n",
       " 'D:/pytorch/GoogleGame_RecommenderSystem-main/Data/train_data_dd.csv\\\\23.part',\n",
       " 'D:/pytorch/GoogleGame_RecommenderSystem-main/Data/train_data_dd.csv\\\\24.part',\n",
       " 'D:/pytorch/GoogleGame_RecommenderSystem-main/Data/train_data_dd.csv\\\\25.part',\n",
       " 'D:/pytorch/GoogleGame_RecommenderSystem-main/Data/train_data_dd.csv\\\\26.part',\n",
       " 'D:/pytorch/GoogleGame_RecommenderSystem-main/Data/train_data_dd.csv\\\\27.part',\n",
       " 'D:/pytorch/GoogleGame_RecommenderSystem-main/Data/train_data_dd.csv\\\\28.part',\n",
       " 'D:/pytorch/GoogleGame_RecommenderSystem-main/Data/train_data_dd.csv\\\\29.part',\n",
       " 'D:/pytorch/GoogleGame_RecommenderSystem-main/Data/train_data_dd.csv\\\\30.part',\n",
       " 'D:/pytorch/GoogleGame_RecommenderSystem-main/Data/train_data_dd.csv\\\\31.part',\n",
       " 'D:/pytorch/GoogleGame_RecommenderSystem-main/Data/train_data_dd.csv\\\\32.part',\n",
       " 'D:/pytorch/GoogleGame_RecommenderSystem-main/Data/train_data_dd.csv\\\\33.part',\n",
       " 'D:/pytorch/GoogleGame_RecommenderSystem-main/Data/train_data_dd.csv\\\\34.part',\n",
       " 'D:/pytorch/GoogleGame_RecommenderSystem-main/Data/train_data_dd.csv\\\\35.part',\n",
       " 'D:/pytorch/GoogleGame_RecommenderSystem-main/Data/train_data_dd.csv\\\\36.part',\n",
       " 'D:/pytorch/GoogleGame_RecommenderSystem-main/Data/train_data_dd.csv\\\\37.part',\n",
       " 'D:/pytorch/GoogleGame_RecommenderSystem-main/Data/train_data_dd.csv\\\\38.part',\n",
       " 'D:/pytorch/GoogleGame_RecommenderSystem-main/Data/train_data_dd.csv\\\\39.part',\n",
       " 'D:/pytorch/GoogleGame_RecommenderSystem-main/Data/train_data_dd.csv\\\\40.part',\n",
       " 'D:/pytorch/GoogleGame_RecommenderSystem-main/Data/train_data_dd.csv\\\\41.part',\n",
       " 'D:/pytorch/GoogleGame_RecommenderSystem-main/Data/train_data_dd.csv\\\\42.part',\n",
       " 'D:/pytorch/GoogleGame_RecommenderSystem-main/Data/train_data_dd.csv\\\\43.part',\n",
       " 'D:/pytorch/GoogleGame_RecommenderSystem-main/Data/train_data_dd.csv\\\\44.part',\n",
       " 'D:/pytorch/GoogleGame_RecommenderSystem-main/Data/train_data_dd.csv\\\\45.part',\n",
       " 'D:/pytorch/GoogleGame_RecommenderSystem-main/Data/train_data_dd.csv\\\\46.part',\n",
       " 'D:/pytorch/GoogleGame_RecommenderSystem-main/Data/train_data_dd.csv\\\\47.part',\n",
       " 'D:/pytorch/GoogleGame_RecommenderSystem-main/Data/train_data_dd.csv\\\\48.part',\n",
       " 'D:/pytorch/GoogleGame_RecommenderSystem-main/Data/train_data_dd.csv\\\\49.part',\n",
       " 'D:/pytorch/GoogleGame_RecommenderSystem-main/Data/train_data_dd.csv\\\\50.part',\n",
       " 'D:/pytorch/GoogleGame_RecommenderSystem-main/Data/train_data_dd.csv\\\\51.part',\n",
       " 'D:/pytorch/GoogleGame_RecommenderSystem-main/Data/train_data_dd.csv\\\\52.part',\n",
       " 'D:/pytorch/GoogleGame_RecommenderSystem-main/Data/train_data_dd.csv\\\\53.part',\n",
       " 'D:/pytorch/GoogleGame_RecommenderSystem-main/Data/train_data_dd.csv\\\\54.part',\n",
       " 'D:/pytorch/GoogleGame_RecommenderSystem-main/Data/train_data_dd.csv\\\\55.part',\n",
       " 'D:/pytorch/GoogleGame_RecommenderSystem-main/Data/train_data_dd.csv\\\\56.part',\n",
       " 'D:/pytorch/GoogleGame_RecommenderSystem-main/Data/train_data_dd.csv\\\\57.part',\n",
       " 'D:/pytorch/GoogleGame_RecommenderSystem-main/Data/train_data_dd.csv\\\\58.part',\n",
       " 'D:/pytorch/GoogleGame_RecommenderSystem-main/Data/train_data_dd.csv\\\\59.part',\n",
       " 'D:/pytorch/GoogleGame_RecommenderSystem-main/Data/train_data_dd.csv\\\\60.part',\n",
       " 'D:/pytorch/GoogleGame_RecommenderSystem-main/Data/train_data_dd.csv\\\\61.part',\n",
       " 'D:/pytorch/GoogleGame_RecommenderSystem-main/Data/train_data_dd.csv\\\\62.part',\n",
       " 'D:/pytorch/GoogleGame_RecommenderSystem-main/Data/train_data_dd.csv\\\\63.part',\n",
       " 'D:/pytorch/GoogleGame_RecommenderSystem-main/Data/train_data_dd.csv\\\\64.part',\n",
       " 'D:/pytorch/GoogleGame_RecommenderSystem-main/Data/train_data_dd.csv\\\\65.part',\n",
       " 'D:/pytorch/GoogleGame_RecommenderSystem-main/Data/train_data_dd.csv\\\\66.part',\n",
       " 'D:/pytorch/GoogleGame_RecommenderSystem-main/Data/train_data_dd.csv\\\\67.part',\n",
       " 'D:/pytorch/GoogleGame_RecommenderSystem-main/Data/train_data_dd.csv\\\\68.part',\n",
       " 'D:/pytorch/GoogleGame_RecommenderSystem-main/Data/train_data_dd.csv\\\\69.part',\n",
       " 'D:/pytorch/GoogleGame_RecommenderSystem-main/Data/train_data_dd.csv\\\\70.part',\n",
       " 'D:/pytorch/GoogleGame_RecommenderSystem-main/Data/train_data_dd.csv\\\\71.part',\n",
       " 'D:/pytorch/GoogleGame_RecommenderSystem-main/Data/train_data_dd.csv\\\\72.part',\n",
       " 'D:/pytorch/GoogleGame_RecommenderSystem-main/Data/train_data_dd.csv\\\\73.part',\n",
       " 'D:/pytorch/GoogleGame_RecommenderSystem-main/Data/train_data_dd.csv\\\\74.part',\n",
       " 'D:/pytorch/GoogleGame_RecommenderSystem-main/Data/train_data_dd.csv\\\\75.part',\n",
       " 'D:/pytorch/GoogleGame_RecommenderSystem-main/Data/train_data_dd.csv\\\\76.part',\n",
       " 'D:/pytorch/GoogleGame_RecommenderSystem-main/Data/train_data_dd.csv\\\\77.part',\n",
       " 'D:/pytorch/GoogleGame_RecommenderSystem-main/Data/train_data_dd.csv\\\\78.part',\n",
       " 'D:/pytorch/GoogleGame_RecommenderSystem-main/Data/train_data_dd.csv\\\\79.part',\n",
       " 'D:/pytorch/GoogleGame_RecommenderSystem-main/Data/train_data_dd.csv\\\\80.part',\n",
       " 'D:/pytorch/GoogleGame_RecommenderSystem-main/Data/train_data_dd.csv\\\\81.part',\n",
       " 'D:/pytorch/GoogleGame_RecommenderSystem-main/Data/train_data_dd.csv\\\\82.part',\n",
       " 'D:/pytorch/GoogleGame_RecommenderSystem-main/Data/train_data_dd.csv\\\\83.part',\n",
       " 'D:/pytorch/GoogleGame_RecommenderSystem-main/Data/train_data_dd.csv\\\\84.part',\n",
       " 'D:/pytorch/GoogleGame_RecommenderSystem-main/Data/train_data_dd.csv\\\\85.part',\n",
       " 'D:/pytorch/GoogleGame_RecommenderSystem-main/Data/train_data_dd.csv\\\\86.part',\n",
       " 'D:/pytorch/GoogleGame_RecommenderSystem-main/Data/train_data_dd.csv\\\\87.part',\n",
       " 'D:/pytorch/GoogleGame_RecommenderSystem-main/Data/train_data_dd.csv\\\\88.part',\n",
       " 'D:/pytorch/GoogleGame_RecommenderSystem-main/Data/train_data_dd.csv\\\\89.part',\n",
       " 'D:/pytorch/GoogleGame_RecommenderSystem-main/Data/train_data_dd.csv\\\\90.part']"
      ]
     },
     "execution_count": 30,
     "metadata": {},
     "output_type": "execute_result"
    }
   ],
   "source": [
    "# 存 train_data\n",
    "dd_train.to_csv('./Data/train_data_dd.csv',index=False)"
   ]
  },
  {
   "cell_type": "markdown",
   "id": "d551b879",
   "metadata": {},
   "source": [
    "### val set"
   ]
  },
  {
   "cell_type": "code",
   "execution_count": 31,
   "id": "47b613f2",
   "metadata": {},
   "outputs": [
    {
     "name": "stdout",
     "output_type": "stream",
     "text": [
      "   review_index  userId  appId\n",
      "0        800602   30304   6378\n",
      "1        870651  103296   6998\n",
      "2        340076   26498   3216\n",
      "3         74159   53877    701\n",
      "4        549663   29013   3920 \n",
      " \n",
      "\n"
     ]
    }
   ],
   "source": [
    "# 把 train_index.txt 也讀進來 \n",
    "\n",
    "val_index = pd.read_csv('./Data/val_index.txt')\n",
    "print(val_index[:5],'\\n','\\n')"
   ]
  },
  {
   "cell_type": "code",
   "execution_count": 32,
   "id": "669d3b17",
   "metadata": {},
   "outputs": [
    {
     "data": {
      "text/plain": [
       "100457"
      ]
     },
     "execution_count": 32,
     "metadata": {},
     "output_type": "execute_result"
    }
   ],
   "source": [
    "len(val_index)"
   ]
  },
  {
   "cell_type": "code",
   "execution_count": 33,
   "id": "562f198a",
   "metadata": {},
   "outputs": [
    {
     "data": {
      "application/vnd.jupyter.widget-view+json": {
       "model_id": "4f9b3a66316c40bd9c0f619ec12280a0",
       "version_major": 2,
       "version_minor": 0
      },
      "text/plain": [
       "0it [00:00, ?it/s]"
      ]
     },
     "metadata": {},
     "output_type": "display_data"
    }
   ],
   "source": [
    "# 找出所有 val_index 對應的 rating\n",
    "rating_lst=[] #準備存進去 text_index的 xlnet_emb lst\n",
    "for count,i in tqdm(enumerate(val_index['review_index'])):\n",
    "    rating_lst.append(ALL_ORIGIN_DATA_rating['rating'][i])"
   ]
  },
  {
   "cell_type": "code",
   "execution_count": 34,
   "id": "4e2b266f",
   "metadata": {},
   "outputs": [
    {
     "data": {
      "application/vnd.jupyter.widget-view+json": {
       "model_id": "e3a7a8268e094b9db5c4c5e97ebc47ae",
       "version_major": 2,
       "version_minor": 0
      },
      "text/plain": [
       "0it [00:00, ?it/s]"
      ]
     },
     "metadata": {},
     "output_type": "display_data"
    }
   ],
   "source": [
    "# 找出所有 val_index 對應的 bert_embedding\n",
    "bert_emb_lst=[] #準備存進去 val_index 的 bert_emb lst\n",
    "for count,i in tqdm(enumerate(val_index['review_index'])):\n",
    "    bert_emb_lst.append(ALL_ORIGIN_DATA_review_bert['bert_embedding'][i])"
   ]
  },
  {
   "cell_type": "code",
   "execution_count": 35,
   "id": "b80fe954",
   "metadata": {},
   "outputs": [
    {
     "data": {
      "application/vnd.jupyter.widget-view+json": {
       "model_id": "dd6dba95d9e74928ab5b95145ee35b16",
       "version_major": 2,
       "version_minor": 0
      },
      "text/plain": [
       "0it [00:00, ?it/s]"
      ]
     },
     "metadata": {},
     "output_type": "display_data"
    }
   ],
   "source": [
    "# 找出所有 val_index 對應的 roberta_embedding\n",
    "ro_emb_lst=[] #準備存進去 val_index 的 ro_emb lst\n",
    "for count,i in tqdm(enumerate(val_index['review_index'])):\n",
    "    ro_emb_lst.append(roberta['roberta_embedding'][i])"
   ]
  },
  {
   "cell_type": "code",
   "execution_count": 36,
   "id": "de6d0ef7",
   "metadata": {},
   "outputs": [
    {
     "data": {
      "text/html": [
       "<div>\n",
       "<style scoped>\n",
       "    .dataframe tbody tr th:only-of-type {\n",
       "        vertical-align: middle;\n",
       "    }\n",
       "\n",
       "    .dataframe tbody tr th {\n",
       "        vertical-align: top;\n",
       "    }\n",
       "\n",
       "    .dataframe thead th {\n",
       "        text-align: right;\n",
       "    }\n",
       "</style>\n",
       "<table border=\"1\" class=\"dataframe\">\n",
       "  <thead>\n",
       "    <tr style=\"text-align: right;\">\n",
       "      <th></th>\n",
       "      <th>review_index</th>\n",
       "      <th>userId</th>\n",
       "      <th>appId</th>\n",
       "      <th>roberta_embedding</th>\n",
       "      <th>bert_embedding</th>\n",
       "      <th>rating</th>\n",
       "    </tr>\n",
       "  </thead>\n",
       "  <tbody>\n",
       "    <tr>\n",
       "      <th>0</th>\n",
       "      <td>800602</td>\n",
       "      <td>30304</td>\n",
       "      <td>6378</td>\n",
       "      <td>[-0.026093758642673492, 0.07183625549077988, -...</td>\n",
       "      <td>[0.18903899192810059, -0.20202893018722534, 0....</td>\n",
       "      <td>1</td>\n",
       "    </tr>\n",
       "    <tr>\n",
       "      <th>1</th>\n",
       "      <td>870651</td>\n",
       "      <td>103296</td>\n",
       "      <td>6998</td>\n",
       "      <td>[-0.02652128040790558, 0.08051957190036774, -0...</td>\n",
       "      <td>[-0.08873194456100464, -0.6624205112457275, 0....</td>\n",
       "      <td>5</td>\n",
       "    </tr>\n",
       "    <tr>\n",
       "      <th>2</th>\n",
       "      <td>340076</td>\n",
       "      <td>26498</td>\n",
       "      <td>3216</td>\n",
       "      <td>[-0.045878589153289795, 0.0483371764421463, -0...</td>\n",
       "      <td>[0.3070529103279114, -0.3259717524051666, 0.56...</td>\n",
       "      <td>1</td>\n",
       "    </tr>\n",
       "    <tr>\n",
       "      <th>3</th>\n",
       "      <td>74159</td>\n",
       "      <td>53877</td>\n",
       "      <td>701</td>\n",
       "      <td>[-0.0389552041888237, 0.08836665749549866, -0....</td>\n",
       "      <td>[0.28427016735076904, -0.002038797130808234, 0...</td>\n",
       "      <td>5</td>\n",
       "    </tr>\n",
       "    <tr>\n",
       "      <th>4</th>\n",
       "      <td>549663</td>\n",
       "      <td>29013</td>\n",
       "      <td>3920</td>\n",
       "      <td>[-0.053048275411129, 0.030511289834976196, -0....</td>\n",
       "      <td>[0.08091507852077484, -0.02626938372850418, 0....</td>\n",
       "      <td>3</td>\n",
       "    </tr>\n",
       "    <tr>\n",
       "      <th>...</th>\n",
       "      <td>...</td>\n",
       "      <td>...</td>\n",
       "      <td>...</td>\n",
       "      <td>...</td>\n",
       "      <td>...</td>\n",
       "      <td>...</td>\n",
       "    </tr>\n",
       "    <tr>\n",
       "      <th>100452</th>\n",
       "      <td>700298</td>\n",
       "      <td>127337</td>\n",
       "      <td>5377</td>\n",
       "      <td>[-0.04661758244037628, 0.08716677129268646, -0...</td>\n",
       "      <td>[0.15324874222278595, 0.1666506826877594, 0.28...</td>\n",
       "      <td>5</td>\n",
       "    </tr>\n",
       "    <tr>\n",
       "      <th>100453</th>\n",
       "      <td>219702</td>\n",
       "      <td>56862</td>\n",
       "      <td>2148</td>\n",
       "      <td>[-0.0392649844288826, 0.0929616242647171, -0.0...</td>\n",
       "      <td>[-0.10891252756118774, -0.36415526270866394, 0...</td>\n",
       "      <td>5</td>\n",
       "    </tr>\n",
       "    <tr>\n",
       "      <th>100454</th>\n",
       "      <td>643323</td>\n",
       "      <td>37277</td>\n",
       "      <td>4791</td>\n",
       "      <td>[-0.04726783186197281, 0.055477265268564224, -...</td>\n",
       "      <td>[-0.1152479276061058, 0.2889108657836914, 0.02...</td>\n",
       "      <td>4</td>\n",
       "    </tr>\n",
       "    <tr>\n",
       "      <th>100455</th>\n",
       "      <td>621739</td>\n",
       "      <td>48691</td>\n",
       "      <td>4718</td>\n",
       "      <td>[0.0076506733894348145, 0.11311863362789154, -...</td>\n",
       "      <td>[-0.08982546627521515, -0.036317404359579086, ...</td>\n",
       "      <td>4</td>\n",
       "    </tr>\n",
       "    <tr>\n",
       "      <th>100456</th>\n",
       "      <td>539491</td>\n",
       "      <td>49767</td>\n",
       "      <td>3804</td>\n",
       "      <td>[-0.02000413089990616, 0.04619046673178673, -0...</td>\n",
       "      <td>[0.43828874826431274, 0.14368432760238647, 0.0...</td>\n",
       "      <td>3</td>\n",
       "    </tr>\n",
       "  </tbody>\n",
       "</table>\n",
       "<p>100457 rows × 6 columns</p>\n",
       "</div>"
      ],
      "text/plain": [
       "        review_index  userId  appId  \\\n",
       "0             800602   30304   6378   \n",
       "1             870651  103296   6998   \n",
       "2             340076   26498   3216   \n",
       "3              74159   53877    701   \n",
       "4             549663   29013   3920   \n",
       "...              ...     ...    ...   \n",
       "100452        700298  127337   5377   \n",
       "100453        219702   56862   2148   \n",
       "100454        643323   37277   4791   \n",
       "100455        621739   48691   4718   \n",
       "100456        539491   49767   3804   \n",
       "\n",
       "                                        roberta_embedding  \\\n",
       "0       [-0.026093758642673492, 0.07183625549077988, -...   \n",
       "1       [-0.02652128040790558, 0.08051957190036774, -0...   \n",
       "2       [-0.045878589153289795, 0.0483371764421463, -0...   \n",
       "3       [-0.0389552041888237, 0.08836665749549866, -0....   \n",
       "4       [-0.053048275411129, 0.030511289834976196, -0....   \n",
       "...                                                   ...   \n",
       "100452  [-0.04661758244037628, 0.08716677129268646, -0...   \n",
       "100453  [-0.0392649844288826, 0.0929616242647171, -0.0...   \n",
       "100454  [-0.04726783186197281, 0.055477265268564224, -...   \n",
       "100455  [0.0076506733894348145, 0.11311863362789154, -...   \n",
       "100456  [-0.02000413089990616, 0.04619046673178673, -0...   \n",
       "\n",
       "                                           bert_embedding  rating  \n",
       "0       [0.18903899192810059, -0.20202893018722534, 0....       1  \n",
       "1       [-0.08873194456100464, -0.6624205112457275, 0....       5  \n",
       "2       [0.3070529103279114, -0.3259717524051666, 0.56...       1  \n",
       "3       [0.28427016735076904, -0.002038797130808234, 0...       5  \n",
       "4       [0.08091507852077484, -0.02626938372850418, 0....       3  \n",
       "...                                                   ...     ...  \n",
       "100452  [0.15324874222278595, 0.1666506826877594, 0.28...       5  \n",
       "100453  [-0.10891252756118774, -0.36415526270866394, 0...       5  \n",
       "100454  [-0.1152479276061058, 0.2889108657836914, 0.02...       4  \n",
       "100455  [-0.08982546627521515, -0.036317404359579086, ...       4  \n",
       "100456  [0.43828874826431274, 0.14368432760238647, 0.0...       3  \n",
       "\n",
       "[100457 rows x 6 columns]"
      ]
     },
     "execution_count": 36,
     "metadata": {},
     "output_type": "execute_result"
    }
   ],
   "source": [
    "dic_val ={'review_index' : list(val_index['review_index']),\"userId\" : list(val_index['userId']),\"appId\":list(val_index['appId']),\"roberta_embedding\" : ro_emb_lst,\"bert_embedding\" : bert_emb_lst ,\"rating\": rating_lst }\n",
    "df_val = DataFrame(dic_val)\n",
    "df_val"
   ]
  },
  {
   "cell_type": "code",
   "execution_count": 37,
   "id": "0e539ba8",
   "metadata": {},
   "outputs": [],
   "source": [
    "# 存 val_data\n",
    "import pickle\n",
    "with open('./Data/val_data', 'wb') as f:\n",
    "    pickle.dump(df_val, f)"
   ]
  },
  {
   "cell_type": "code",
   "execution_count": null,
   "id": "4c61ffea",
   "metadata": {},
   "outputs": [],
   "source": []
  }
 ],
 "metadata": {
  "kernelspec": {
   "display_name": "Python 3",
   "language": "python",
   "name": "python3"
  },
  "language_info": {
   "codemirror_mode": {
    "name": "ipython",
    "version": 3
   },
   "file_extension": ".py",
   "mimetype": "text/x-python",
   "name": "python",
   "nbconvert_exporter": "python",
   "pygments_lexer": "ipython3",
   "version": "3.6.13"
  }
 },
 "nbformat": 4,
 "nbformat_minor": 5
}
